{
 "cells": [
  {
   "cell_type": "code",
   "execution_count": 194,
   "metadata": {},
   "outputs": [
    {
     "name": "stdout",
     "output_type": "stream",
     "text": [
      "Hello\n"
     ]
    }
   ],
   "source": [
    "print (\"Hello\")"
   ]
  },
  {
   "cell_type": "code",
   "execution_count": 195,
   "metadata": {},
   "outputs": [
    {
     "data": {
      "text/plain": [
       "'Naa istam'"
      ]
     },
     "execution_count": 195,
     "metadata": {},
     "output_type": "execute_result"
    }
   ],
   "source": [
    "\"\"\"Naa istam\"\"\""
   ]
  },
  {
   "cell_type": "code",
   "execution_count": 5,
   "metadata": {},
   "outputs": [
    {
     "data": {
      "text/plain": [
       "10"
      ]
     },
     "execution_count": 5,
     "metadata": {},
     "output_type": "execute_result"
    }
   ],
   "source": [
    "5+5"
   ]
  },
  {
   "cell_type": "code",
   "execution_count": 6,
   "metadata": {},
   "outputs": [],
   "source": [
    "from pyspark.sql import *\n"
   ]
  },
  {
   "cell_type": "code",
   "execution_count": 7,
   "metadata": {},
   "outputs": [],
   "source": [
    "import pyspark.mllib"
   ]
  },
  {
   "cell_type": "code",
   "execution_count": 8,
   "metadata": {},
   "outputs": [
    {
     "data": {
      "text/html": [
       "\n",
       "        <div>\n",
       "            <p><b>SparkContext</b></p>\n",
       "\n",
       "            <p><a href=\"http://10.0.0.178:4040\">Spark UI</a></p>\n",
       "\n",
       "            <dl>\n",
       "              <dt>Version</dt>\n",
       "                <dd><code>v2.3.2</code></dd>\n",
       "              <dt>Master</dt>\n",
       "                <dd><code>local[2]</code></dd>\n",
       "              <dt>AppName</dt>\n",
       "                <dd><code>PySparkShell</code></dd>\n",
       "            </dl>\n",
       "        </div>\n",
       "        "
      ],
      "text/plain": [
       "<SparkContext master=local[2] appName=PySparkShell>"
      ]
     },
     "execution_count": 8,
     "metadata": {},
     "output_type": "execute_result"
    }
   ],
   "source": [
    "sc"
   ]
  },
  {
   "cell_type": "code",
   "execution_count": 14,
   "metadata": {},
   "outputs": [],
   "source": [
    "raw_data = sc.textFile(\"hour_noheader.csv\")"
   ]
  },
  {
   "cell_type": "code",
   "execution_count": 15,
   "metadata": {},
   "outputs": [
    {
     "data": {
      "text/plain": [
       "hour_noheader.csv MapPartitionsRDD[3] at textFile at NativeMethodAccessorImpl.java:0"
      ]
     },
     "execution_count": 15,
     "metadata": {},
     "output_type": "execute_result"
    }
   ],
   "source": [
    "raw_data"
   ]
  },
  {
   "cell_type": "code",
   "execution_count": 16,
   "metadata": {},
   "outputs": [],
   "source": [
    "records = raw_data.map(lambda x: x.split(\",\"))"
   ]
  },
  {
   "cell_type": "code",
   "execution_count": 18,
   "metadata": {},
   "outputs": [],
   "source": [
    "first = records.first()"
   ]
  },
  {
   "cell_type": "code",
   "execution_count": 19,
   "metadata": {},
   "outputs": [
    {
     "name": "stdout",
     "output_type": "stream",
     "text": [
      "['1', '2011-01-01', '1', '0', '1', '0', '0', '6', '0', '1', '0.24', '0.2879', '0.81', '0', '3', '13', '16']\n"
     ]
    }
   ],
   "source": [
    "print (first)"
   ]
  },
  {
   "cell_type": "code",
   "execution_count": 81,
   "metadata": {},
   "outputs": [
    {
     "data": {
      "text/plain": [
       "['1',\n",
       " '2011-01-01',\n",
       " '1',\n",
       " '0',\n",
       " '1',\n",
       " '0',\n",
       " '0',\n",
       " '6',\n",
       " '0',\n",
       " '1',\n",
       " '0.24',\n",
       " '0.2879',\n",
       " '0.81',\n",
       " '0',\n",
       " '3',\n",
       " '13',\n",
       " '16']"
      ]
     },
     "execution_count": 81,
     "metadata": {},
     "output_type": "execute_result"
    }
   ],
   "source": [
    "records.cache()"
   ]
  },
  {
   "cell_type": "code",
   "execution_count": 21,
   "metadata": {},
   "outputs": [],
   "source": [
    "def get_mapping(rdd, idx):\n",
    "    return rdd.map(lambda fields: fields[idx]).distinct().zipWithIndex().collectAsMap()"
   ]
  },
  {
   "cell_type": "code",
   "execution_count": 22,
   "metadata": {},
   "outputs": [
    {
     "name": "stdout",
     "output_type": "stream",
     "text": [
      "Mapping of first categorical feasture column: {'1': 0, '4': 1, '2': 2, '3': 3}\n"
     ]
    }
   ],
   "source": [
    "print (\"Mapping of first categorical feasture column: %s\" % (get_mapping(records, 2)))"
   ]
  },
  {
   "cell_type": "code",
   "execution_count": 24,
   "metadata": {},
   "outputs": [],
   "source": [
    "mappings = [get_mapping(records, i) for i in range(2,10)]\n",
    "cat_len = sum(map(len, mappings))\n",
    "num_len = len(records.first()[11:15])\n",
    "total_len = num_len + cat_len"
   ]
  },
  {
   "cell_type": "code",
   "execution_count": 26,
   "metadata": {},
   "outputs": [
    {
     "name": "stdout",
     "output_type": "stream",
     "text": [
      "Feature vector length for categorical features: 57 \n",
      "Feature vector length for numerical features: 4 \n",
      "Total feature vector length: 61 \n"
     ]
    }
   ],
   "source": [
    "print (\"Feature vector length for categorical features: %d \" % cat_len)\n",
    "print (\"Feature vector length for numerical features: %d \" % num_len)\n",
    "print (\"Total feature vector length: %d \" % total_len)"
   ]
  },
  {
   "cell_type": "code",
   "execution_count": 82,
   "metadata": {},
   "outputs": [
    {
     "data": {
      "text/plain": [
       "array([1.    , 0.    , 0.    , 0.    , 1.    , 0.    , 1.    , 0.    ,\n",
       "       0.    , 0.    , 0.    , 0.    , 0.    , 0.    , 0.    , 0.    ,\n",
       "       0.    , 0.    , 1.    , 0.    , 0.    , 0.    , 0.    , 0.    ,\n",
       "       0.    , 0.    , 0.    , 0.    , 0.    , 0.    , 0.    , 0.    ,\n",
       "       0.    , 0.    , 0.    , 0.    , 0.    , 0.    , 0.    , 0.    ,\n",
       "       0.    , 0.    , 1.    , 0.    , 0.    , 0.    , 0.    , 1.    ,\n",
       "       0.    , 0.    , 0.    , 1.    , 0.    , 0.    , 0.    , 0.    ,\n",
       "       0.    , 0.24  , 0.2879, 0.81  , 0.    ])"
      ]
     },
     "execution_count": 82,
     "metadata": {},
     "output_type": "execute_result"
    }
   ],
   "source": [
    "from pyspark.mllib.regression import LabeledPoint\n",
    "\n",
    "import numpy as np\n",
    "\n",
    "def extract_features(record):\n",
    "    cat_vec = np.zeros(cat_len)\n",
    "    i = 0\n",
    "    step = 0\n",
    "    for field in record[2:9]:\n",
    "        m = mappings[i]\n",
    "        idx = m[field]\n",
    "        cat_vec[idx + step] = 1\n",
    "        i = i + 1\n",
    "        step = step + len(m)\n",
    "    num_vec = np.array([float(field) for field in record[10:14]])\n",
    "    return np.concatenate((cat_vec, num_vec))\n",
    "\n",
    "def extract_label(record):\n",
    "    return float(record[-1])\n",
    "\n",
    "extract_features(records.first())"
   ]
  },
  {
   "cell_type": "code",
   "execution_count": 78,
   "metadata": {},
   "outputs": [],
   "source": [
    "data = records.map(lambda r: LabeledPoint(extract_label(r), extract_features(r)))"
   ]
  },
  {
   "cell_type": "code",
   "execution_count": 79,
   "metadata": {},
   "outputs": [],
   "source": [
    "first_point = data.first()"
   ]
  },
  {
   "cell_type": "code",
   "execution_count": 33,
   "metadata": {},
   "outputs": [
    {
     "name": "stdout",
     "output_type": "stream",
     "text": [
      "Raw Data['1', '0', '1', '0', '0', '6', '0', '1', '0.24', '0.2879', '0.81', '0', '3', '13', '16']\n",
      "Label:16.0\n",
      "Linear Model feature vector:\n",
      "[1.0,0.0,0.0,0.0,1.0,0.0,1.0,0.0,0.0,0.0,0.0,0.0,0.0,0.0,0.0,0.0,0.0,0.0,1.0,0.0,0.0,0.0,0.0,0.0,0.0,0.0,0.0,0.0,0.0,0.0,0.0,0.0,0.0,0.0,0.0,0.0,0.0,0.0,0.0,0.0,0.0,0.0,1.0,0.0,0.0,0.0,0.0,1.0,0.0,0.0,0.0,1.0,0.0,0.0,0.0,0.0,0.0,0.24,0.2879,0.81,0.0]\n",
      "Linear Model feature vector length: 61\n"
     ]
    }
   ],
   "source": [
    "print (\"Raw Data\" + str(first[2:]))\n",
    "\n",
    "print (\"Label:\" + str(first_point.label))\n",
    "\n",
    "print (\"Linear Model feature vector:\\n\" + str(first_point.features))\n",
    "\n",
    "print (\"Linear Model feature vector length: \" + str(len(first_point.features)))"
   ]
  },
  {
   "cell_type": "code",
   "execution_count": 123,
   "metadata": {},
   "outputs": [
    {
     "name": "stdout",
     "output_type": "stream",
     "text": [
      "Decision Tree feature vector: [1.0,0.0,1.0,0.0,0.0,6.0,0.0,1.0,0.24,0.2879,0.81,0.0]\n",
      "Decision Tree feature vector length:12\n"
     ]
    }
   ],
   "source": [
    "# Extract features of decision tree. \n",
    "\n",
    "def extract_features_dt(record):\n",
    "    return np.array(list(map(float, record[2:14])))\n",
    "\n",
    "# def extract_features_dt(record):\n",
    "#     cat_vec = np.zeros(cat_len)\n",
    "#     i = 0\n",
    "#     step = 0\n",
    "#     for field in record[2:9]:\n",
    "#         m = mappings[i]\n",
    "#         idx = m[field]\n",
    "#         cat_vec[idx + step] = 1\n",
    "#         i = i + 1\n",
    "#         step = step + len(m)\n",
    "#     num_vec = np.array([float(field) for field in record[10:14]])\n",
    "#     return np.concatenate((cat_vec, num_vec))\n",
    "\n",
    "\n",
    "\n",
    "data_dt = records.map(lambda r: LabeledPoint(extract_label(r), extract_features_dt(r)))\n",
    "\n",
    "# label = extract_label(records.first())\n",
    "# print (label)\n",
    "# features_array = extract_features_dt(records.first())\n",
    "# print (features_array)\n",
    "\n",
    "# LabeledPoint(label, features_array)\n",
    "\n",
    "data_dt.count()\n",
    "\n",
    "first_point_dt = data_dt.first()\n",
    "\n",
    "print (\"Decision Tree feature vector: \"  + str(first_point_dt.features))\n",
    "\n",
    "print (\"Decision Tree feature vector length:\" + str(len(first_point_dt.features)))\n"
   ]
  },
  {
   "cell_type": "code",
   "execution_count": 40,
   "metadata": {},
   "outputs": [
    {
     "data": {
      "text/plain": [
       "{'func': <function pyspark.rdd.RDD.map.<locals>.func(_, iterator)>,\n",
       " 'preservesPartitioning': False,\n",
       " '_prev_jrdd': JavaObject id=o57,\n",
       " '_prev_jrdd_deserializer': AutoBatchedSerializer(PickleSerializer()),\n",
       " 'is_cached': False,\n",
       " 'is_checkpointed': False,\n",
       " 'ctx': <SparkContext master=local[2] appName=PySparkShell>,\n",
       " 'prev': PythonRDD[5] at RDD at PythonRDD.scala:52,\n",
       " '_jrdd_val': JavaObject id=o777,\n",
       " '_id': None,\n",
       " '_jrdd_deserializer': AutoBatchedSerializer(PickleSerializer()),\n",
       " '_bypass_serializer': False,\n",
       " 'partitioner': None}"
      ]
     },
     "execution_count": 40,
     "metadata": {},
     "output_type": "execute_result"
    }
   ],
   "source": [
    "data_dt.__dict__"
   ]
  },
  {
   "cell_type": "code",
   "execution_count": 46,
   "metadata": {},
   "outputs": [],
   "source": [
    "from pyspark.mllib.regression import LinearRegressionWithSGD\n",
    "linear_model = LinearRegressionWithSGD.train(data, iterations=10, step=0.1, intercept=False)"
   ]
  },
  {
   "cell_type": "code",
   "execution_count": 47,
   "metadata": {},
   "outputs": [],
   "source": [
    "true_vs_predicted = data.map(lambda p: (p.label, linear_model.predict(p.features)))"
   ]
  },
  {
   "cell_type": "code",
   "execution_count": 48,
   "metadata": {},
   "outputs": [
    {
     "name": "stdout",
     "output_type": "stream",
     "text": [
      "Linear Model predictions: [(16.0, 117.89250386724845), (40.0, 116.22496123192113), (32.0, 116.02369145779235), (13.0, 115.67088016754433), (1.0, 115.56315650834316)]\n"
     ]
    }
   ],
   "source": [
    "print (\"Linear Model predictions: \" + str(true_vs_predicted.take(5)))"
   ]
  },
  {
   "cell_type": "code",
   "execution_count": 132,
   "metadata": {
    "scrolled": true
   },
   "outputs": [
    {
     "name": "stdout",
     "output_type": "stream",
     "text": [
      "Decision Tree predictions: [(16.0, 54.913223140495866), (40.0, 54.913223140495866), (32.0, 53.171052631578945), (13.0, 14.284023668639053), (1.0, 14.284023668639053)]\n",
      "Decision Tree depth: 5\n",
      "Decision Tree number of nodes: 63\n"
     ]
    }
   ],
   "source": [
    "from pyspark.mllib.tree import DecisionTree, DecisionTreeModel\n",
    "\n",
    "dt_model = DecisionTree.trainRegressor(data_dt,{})\n",
    "\n",
    "preds = dt_model.predict(data_dt.map(lambda p: p.features))\n",
    "\n",
    "actual = data.map(lambda p: p.label)\n",
    "\n",
    "true_vs_predicted_dt = actual.zip(preds)\n",
    "\n",
    "print (\"Decision Tree predictions: \" + str(true_vs_predicted_dt.take(5)))\n",
    "\n",
    "print (\"Decision Tree depth: \" + str(dt_model.depth()))\n",
    "\n",
    "print (\"Decision Tree number of nodes: \" + str(dt_model.numNodes()))"
   ]
  },
  {
   "cell_type": "code",
   "execution_count": 63,
   "metadata": {},
   "outputs": [],
   "source": [
    "def squared_error(actual, predicted):\n",
    "    return (predicted - actual)**2"
   ]
  },
  {
   "cell_type": "code",
   "execution_count": 64,
   "metadata": {},
   "outputs": [],
   "source": [
    "def abs_error(actual, pred):\n",
    "    return np.abs(pred - actual)"
   ]
  },
  {
   "cell_type": "code",
   "execution_count": 66,
   "metadata": {},
   "outputs": [],
   "source": [
    "def squared_log_error(pred, actual):\n",
    "    return (np.log(pred + 1) - np.log(actual + 1))**2"
   ]
  },
  {
   "cell_type": "code",
   "execution_count": 137,
   "metadata": {},
   "outputs": [
    {
     "name": "stdout",
     "output_type": "stream",
     "text": [
      "Linear Model – Mean Squared Error: 30679.4539\n",
      "Linear Model – Mean Absolute Error: 130.6429\n",
      "Linear Model – Root Mean Squared Log Error: 1.4653\n"
     ]
    }
   ],
   "source": [
    "# 6.1 Linear Model\n",
    "\n",
    "mse = true_vs_predicted.map(lambda args: squared_error(args[0], args[1])).mean()\n",
    "\n",
    "mae = true_vs_predicted.map(lambda args: abs_error(args[0], args[1])).mean()\n",
    "\n",
    "rmsle = np.sqrt(true_vs_predicted.map(lambda args: squared_log_error(args[0], args[1])).mean())\n",
    "\n",
    "print (\"Linear Model – Mean Squared Error: %2.4f\" % mse)\n",
    "\n",
    "print (\"Linear Model – Mean Absolute Error: %2.4f\" % mae)\n",
    "\n",
    "print (\"Linear Model – Root Mean Squared Log Error: %2.4f\" % rmsle)"
   ]
  },
  {
   "cell_type": "code",
   "execution_count": 139,
   "metadata": {},
   "outputs": [
    {
     "name": "stdout",
     "output_type": "stream",
     "text": [
      "Decision Tree – Mean Squared Error: 11611.4860\n",
      "Decision Tree – Mean Absolute Error: 71.1502\n",
      "Decision Tree – Root Mean Squared Log Error: 0.6251\n"
     ]
    }
   ],
   "source": [
    "## 6.2 Decision Tree\n",
    "\n",
    "\n",
    "mse_dt = true_vs_predicted_dt.map(lambda args: squared_error(args[0], args[1])).mean()\n",
    "\n",
    "mae_dt = true_vs_predicted_dt.map(lambda args: abs_error(args[0], args[1])).mean()\n",
    "\n",
    "rmsle_dt = np.sqrt(true_vs_predicted_dt.map(lambda args: squared_log_error(args[0], args[1])).mean())\n",
    "\n",
    "print (\"Decision Tree – Mean Squared Error: %2.4f\" % mse_dt)\n",
    "\n",
    "print (\"Decision Tree – Mean Absolute Error: %2.4f\" % mae_dt)\n",
    "\n",
    "print (\"Decision Tree – Root Mean Squared Log Error: %2.4f\" % rmsle_dt)"
   ]
  },
  {
   "cell_type": "code",
   "execution_count": 140,
   "metadata": {},
   "outputs": [
    {
     "name": "stdout",
     "output_type": "stream",
     "text": [
      "Populating the interactive namespace from numpy and matplotlib\n"
     ]
    }
   ],
   "source": [
    "## 6.3.1 Transforming the target variable\n",
    "# Usually the we assume distribution to be uniform\n",
    "# Similary we know for sure in this Dataset, the bike count can never be negative\n",
    "\n",
    "%pylab inline"
   ]
  },
  {
   "cell_type": "code",
   "execution_count": 147,
   "metadata": {},
   "outputs": [
    {
     "data": {
      "image/png": "[encoded data removed]",
      "text/plain": [
       "<Figure size 1152x720 with 1 Axes>"
      ]
     },
     "metadata": {
      "needs_background": "light"
     },
     "output_type": "display_data"
    }
   ],
   "source": [
    "targets = records.map(lambda r: float(r[-1])).collect()\n",
    "\n",
    "hist(targets, bins=40, color=\"lightblue\", density=True)\n",
    "\n",
    "fig = matplotlib.pyplot.gcf()\n",
    "\n",
    "fig.set_size_inches(16, 10)\n",
    "\n",
    "# Looking at the histogram plot, \n",
    "# we can see that the distribution is highly skewed and \n",
    "# certainly does not follow a normal distribution:\n",
    "\n",
    "# Figure 1: Distribution of raw target variable values"
   ]
  },
  {
   "cell_type": "code",
   "execution_count": 146,
   "metadata": {},
   "outputs": [
    {
     "data": {
      "image/png": "[encoded data removed]",
      "text/plain": [
       "<Figure size 1152x720 with 1 Axes>"
      ]
     },
     "metadata": {
      "needs_background": "light"
     },
     "output_type": "display_data"
    }
   ],
   "source": [
    "# As count cannot be negative during the prediction, \n",
    "# We take the logarithamic value of the target value\n",
    "log_targets = records.map(lambda r: np.log(float(r[-1]))).collect()\n",
    "\n",
    "hist(log_targets, bins=40, color=\"lightblue\", density=True)\n",
    "\n",
    "fig = matplotlib.pyplot.gcf()\n",
    "\n",
    "fig.set_size_inches(16, 10)\n",
    "# Figure 2: Distribution of log-transformed target variable values\n"
   ]
  },
  {
   "cell_type": "code",
   "execution_count": 151,
   "metadata": {},
   "outputs": [
    {
     "data": {
      "image/png": "[encoded data removed]",
      "text/plain": [
       "<Figure size 1152x720 with 1 Axes>"
      ]
     },
     "metadata": {
      "needs_background": "light"
     },
     "output_type": "display_data"
    }
   ],
   "source": [
    "# Instead of logs, we can also take square roots of the target value, \n",
    "# to avoid the value to be negative.\n",
    "\n",
    "sqrt_targets = records.map(lambda r: np.sqrt(float(r[-1]))).collect()\n",
    "\n",
    "hist(sqrt_targets, bins=40, color=\"lightblue\", density=True)\n",
    "\n",
    "fig = matplotlib.pyplot.gcf()\n",
    "\n",
    "fig.set_size_inches(16, 10)\n",
    "\n",
    "# Figure 3: Distribution of square-root-transformed target variable values"
   ]
  },
  {
   "cell_type": "code",
   "execution_count": 156,
   "metadata": {},
   "outputs": [],
   "source": [
    "# 6.4 Impact of training on the log-transformed targets\n",
    "\n",
    "data_log = data.map(lambda lp: LabeledPoint(np.log(lp.label), lp.features))\n",
    "\n",
    "# We will then train a model on this transformed data and \n",
    "# form the RDD of predicted versus true values:\n",
    "\n",
    "model_log = LinearRegressionWithSGD.train(data_log, iterations=10, step=0.1)\n",
    "\n",
    "true_vs_predicted_log = data_log.map(lambda p: (np.exp(p.label), np.exp(model_log.predict(p.features))))"
   ]
  },
  {
   "cell_type": "code",
   "execution_count": 157,
   "metadata": {},
   "outputs": [
    {
     "name": "stdout",
     "output_type": "stream",
     "text": [
      "Mean Squared Error: 50685.5559\n",
      "Mean Absolue Error: 155.2955\n",
      "Root Mean Squared Log Error: 1.5411\n",
      "Non log-transformed predictions:\n",
      " [(16.0, 117.89250386724845), (40.0, 116.22496123192113), (32.0, 116.02369145779235)]\n",
      "Log-transformed predictions:\n",
      "[(15.999999999999998, 28.080291845456223), (40.0, 26.959480191001774), (32.0, 26.65472562945802)]\n"
     ]
    }
   ],
   "source": [
    "# Log transformed error prediction comparision with raw Data or non-log original data. \n",
    "\n",
    "mse_log = true_vs_predicted_log.map(lambda args: squared_error(args[0], args[1])).mean()\n",
    "\n",
    "mae_log = true_vs_predicted_log.map(lambda args: abs_error(args[0], args[1])).mean()\n",
    "\n",
    "rmsle_log = np.sqrt(true_vs_predicted_log.map(lambda args: squared_log_error(args[0], args[1])).mean())\n",
    "\n",
    "\n",
    "print (\"Mean Squared Error: %2.4f\" % mse_log)\n",
    "\n",
    "print (\"Mean Absolue Error: %2.4f\" % mae_log)\n",
    "\n",
    "print (\"Root Mean Squared Log Error: %2.4f\" % rmsle_log)\n",
    "\n",
    "print (\"Non log-transformed predictions:\\n \" + str(true_vs_predicted.take(3)))\n",
    "\n",
    "print (\"Log-transformed predictions:\\n\" + str(true_vs_predicted_log.take(3)))"
   ]
  },
  {
   "cell_type": "code",
   "execution_count": 158,
   "metadata": {},
   "outputs": [],
   "source": [
    "## Similar log analysis for Decision tree\n",
    "\n",
    "data_dt_log = data_dt.map(lambda lp: LabeledPoint(np.log(lp.label), lp.features))\n",
    "\n",
    "dt_model_log = DecisionTree.trainRegressor(data_dt_log,{})\n",
    "\n",
    "preds_log = dt_model_log.predict(data_dt_log.map(lambda p: p.features))\n",
    "\n",
    "actual_log = data_dt_log.map(lambda p: p.label)\n",
    "\n",
    "true_vs_predicted_dt_log = actual_log.zip(preds_log).map(lambda args: (np.exp(args[0]), np.exp(args[1])))\n",
    "\n",
    "\n"
   ]
  },
  {
   "cell_type": "code",
   "execution_count": 160,
   "metadata": {},
   "outputs": [
    {
     "name": "stdout",
     "output_type": "stream",
     "text": [
      "Mean Squared Error: 14781.5760\n",
      "Mean Absolue Error: 76.4131\n",
      "Root Mean Squared Log Error: 0.6406\n",
      "Non log-transformed predictions:\n",
      "[(16.0, 54.913223140495866), (40.0, 54.913223140495866), (32.0, 53.171052631578945)]\n",
      "Log-transformed predictions:\n",
      " [(15.999999999999998, 37.53077978715451), (40.0, 37.53077978715451), (32.0, 7.279707099390729)]\n"
     ]
    }
   ],
   "source": [
    "mse_log_dt = true_vs_predicted_dt_log.map(lambda args: squared_error(args[0], args[1])).mean()\n",
    "\n",
    "mae_log_dt = true_vs_predicted_dt_log.map(lambda args: abs_error(args[0], args[1])).mean()\n",
    "\n",
    "rmsle_log_dt = np.sqrt(true_vs_predicted_dt_log.map(lambda args: squared_log_error(args[0], args[1])).mean())\n",
    "\n",
    "print (\"Mean Squared Error: %2.4f\" % mse_log_dt)\n",
    "\n",
    "print (\"Mean Absolue Error: %2.4f\" % mae_log_dt)\n",
    "\n",
    "print (\"Root Mean Squared Log Error: %2.4f\" % rmsle_log_dt)\n",
    "\n",
    "print (\"Non log-transformed predictions:\\n\" + str(true_vs_predicted_dt.take(3)))\n",
    "\n",
    "print (\"Log-transformed predictions:\\n \" + str(true_vs_predicted_dt_log.take(3)))"
   ]
  },
  {
   "cell_type": "code",
   "execution_count": 173,
   "metadata": {},
   "outputs": [
    {
     "name": "stdout",
     "output_type": "stream",
     "text": [
      "Training data size: 13869\n",
      "Test data size: 3510\n",
      "Total data size: 17379 \n",
      "Train + Test size : 17379\n"
     ]
    }
   ],
   "source": [
    "## 6.5 Tuning model parameters\n",
    "\n",
    "# first taking a random sample of, say, 20 percent of our data as our test\n",
    "\n",
    "data_with_idx = data.zipWithIndex().map(lambda args: (args[1], args[0]))\n",
    "\n",
    "test = data_with_idx.sample(False, 0.2, 42)\n",
    "\n",
    "train = data_with_idx.subtractByKey(test)\n",
    "\n",
    "train_data = train.map(lambda args: args[1])\n",
    "\n",
    "test_data = test.map(lambda args: args[1])\n",
    "\n",
    "train_size = train_data.count()\n",
    "\n",
    "test_size = test_data.count()\n",
    "\n",
    "print (\"Training data size: %d\" % train_size)\n",
    "\n",
    "print (\"Test data size: %d\" % test_size)\n",
    "\n",
    "print (\"Total data size: %d \" % (train_size + test_size))\n",
    "\n",
    "print (\"Train + Test size : %d\" % (train_size + test_size))"
   ]
  },
  {
   "cell_type": "code",
   "execution_count": 191,
   "metadata": {},
   "outputs": [],
   "source": [
    "# Splitting the tree data also into training and testing\n",
    "\n",
    "data_with_idx_dt = data_dt.zipWithIndex().map(lambda args: (args[1], args[0]))\n",
    "\n",
    "test_dt = data_with_idx_dt.sample(False, 0.2, 42)\n",
    "\n",
    "train_dt = data_with_idx_dt.subtractByKey(test_dt)\n",
    "\n",
    "train_data_dt = train_dt.map(lambda args: args[1])\n",
    "\n",
    "test_data_dt = test_dt.map(lambda args: args[1])"
   ]
  },
  {
   "cell_type": "code",
   "execution_count": 162,
   "metadata": {},
   "outputs": [],
   "source": [
    "#7 Impact of parameter setting for linear models\n",
    "\n",
    "# Evaluation function\n",
    "\n",
    "def evaluate(train, test, iterations, step, regParam, regType, intercept):\n",
    "    model = LinearRegressionWithSGD.train(\n",
    "        train, iterations, step, regParam=regParam, \n",
    "        regType=regType, intercept=intercept\n",
    "    )\n",
    "    tp = test.map(lambda p: (p.label, model.predict(p.features)))\n",
    "    rmsle = np.sqrt(tp.map(lambda args: squared_log_error(args[0], args[1])).mean())\n",
    "    return rmsle\n",
    "\n",
    "#rmsle is the root mean square linear error"
   ]
  },
  {
   "cell_type": "code",
   "execution_count": 176,
   "metadata": {},
   "outputs": [
    {
     "name": "stdout",
     "output_type": "stream",
     "text": [
      "[1, 5, 10, 20, 50, 100]\n",
      "[2.8895751840351522, 2.0389907666484954, 1.7689106650446305, 1.5672874678333346, 1.4112887844157065, 1.3708564590941776]\n"
     ]
    }
   ],
   "source": [
    "# Comparision with diff iterations\n",
    "\n",
    "params = [1, 5, 10, 20, 50, 100]\n",
    "\n",
    "metrics = [evaluate(train_data, test_data, param, 0.01, 0.0, \"l2\", False) for param in params]\n",
    "\n",
    "print (params)\n",
    "\n",
    "print (metrics)"
   ]
  },
  {
   "cell_type": "code",
   "execution_count": 178,
   "metadata": {},
   "outputs": [
    {
     "data": {
      "image/png": "[encoded data removed]",
      "text/plain": [
       "<Figure size 432x288 with 1 Axes>"
      ]
     },
     "metadata": {
      "needs_background": "light"
     },
     "output_type": "display_data"
    }
   ],
   "source": [
    "# Plotting RMSLE metric against number of iterations\n",
    "\n",
    "plot(params, metrics)\n",
    "\n",
    "fig = matplotlib.pyplot.gcf()\n",
    "\n",
    "pyplot.xscale(\"log\")\n",
    "\n",
    "# Figure 4:Metrics for varying number of iterations"
   ]
  },
  {
   "cell_type": "code",
   "execution_count": 179,
   "metadata": {},
   "outputs": [
    {
     "name": "stdout",
     "output_type": "stream",
     "text": [
      "[0.01, 0.025, 0.05, 0.1, 1.0]\n",
      "[1.7689106650446305, 1.4109119656546198, 1.37965777743331, 1.4580779096997896, nan]\n"
     ]
    },
    {
     "name": "stderr",
     "output_type": "stream",
     "text": [
      "/home/purnesh/spark-2.3.2-bin-hadoop2.7/python/pyspark/statcounter.py:80: RuntimeWarning: invalid value encountered in maximum\n",
      "  self.maxValue = maximum(self.maxValue, other.maxValue)\n",
      "/home/purnesh/spark-2.3.2-bin-hadoop2.7/python/pyspark/statcounter.py:81: RuntimeWarning: invalid value encountered in minimum\n",
      "  self.minValue = minimum(self.minValue, other.minValue)\n"
     ]
    }
   ],
   "source": [
    "# 7.2 Performing same test, changing the step size. \n",
    "\n",
    "params = [0.01, 0.025, 0.05, 0.1, 1.0]\n",
    "\n",
    "metrics = [evaluate(train_data, test_data, 10, param, 0.0, \"l2\", False) for param in params]\n",
    "\n",
    "print (params)\n",
    "\n",
    "print (metrics)"
   ]
  },
  {
   "cell_type": "code",
   "execution_count": 180,
   "metadata": {},
   "outputs": [
    {
     "data": {
      "image/png": "[encoded data removed]",
      "text/plain": [
       "<Figure size 432x288 with 1 Axes>"
      ]
     },
     "metadata": {
      "needs_background": "light"
     },
     "output_type": "display_data"
    }
   ],
   "source": [
    "plot(params, metrics)\n",
    "\n",
    "fig = matplotlib.pyplot.gcf()\n",
    "\n",
    "pyplot.xscale(\"log\")\n",
    "\n",
    "# Figure 5:Metrics for varying values of step size"
   ]
  },
  {
   "cell_type": "code",
   "execution_count": 181,
   "metadata": {},
   "outputs": [
    {
     "name": "stdout",
     "output_type": "stream",
     "text": [
      "[0.0, 0.01, 0.1, 1.0, 5.0, 10.0, 20.0]\n",
      "[1.4580779096997896, 1.4574329945186553, 1.4517403325137033, 1.4055537710502843, 1.3809678070431126, 1.5198891882336292, 1.8224536571417236]\n"
     ]
    },
    {
     "data": {
      "image/png": "[encoded data removed]",
      "text/plain": [
       "<Figure size 432x288 with 1 Axes>"
      ]
     },
     "metadata": {
      "needs_background": "light"
     },
     "output_type": "display_data"
    }
   ],
   "source": [
    "# 7.3 L2 Regularization\n",
    "\n",
    "params = [0.0, 0.01, 0.1, 1.0, 5.0, 10.0, 20.0]\n",
    "\n",
    "metrics = [evaluate(train_data, test_data, 10, 0.1, param, \"l2\", False) for param in params]\n",
    "\n",
    "print (params)\n",
    "\n",
    "print (metrics)\n",
    "\n",
    "plot(params, metrics)\n",
    "\n",
    "fig = matplotlib.pyplot.gcf()\n",
    "\n",
    "pyplot.xscale(\"log\")\n",
    "\n",
    "# Figure 6: Metrics for varying levels of L2 regularization"
   ]
  },
  {
   "cell_type": "code",
   "execution_count": 182,
   "metadata": {},
   "outputs": [
    {
     "name": "stdout",
     "output_type": "stream",
     "text": [
      "[0.0, 0.01, 0.1, 1.0, 10.0, 100.0, 1000.0]\n",
      "[1.4580779096997896, 1.458043054492044, 1.4577312609446176, 1.4548207151817398, 1.4279738870738146, 1.7425548127469217, 4.775096900108976]\n"
     ]
    },
    {
     "data": {
      "image/png": "[encoded data removed]",
      "text/plain": [
       "<Figure size 432x288 with 1 Axes>"
      ]
     },
     "metadata": {
      "needs_background": "light"
     },
     "output_type": "display_data"
    }
   ],
   "source": [
    "# 7.4 L1 Regularization\n",
    "\n",
    "params = [0.0, 0.01, 0.1, 1.0, 10.0, 100.0, 1000.0]\n",
    "\n",
    "metrics = [evaluate(train_data, test_data, 10, 0.1, param, \"l1\", False) for param in params]\n",
    "\n",
    "print (params)\n",
    "\n",
    "print (metrics)\n",
    "\n",
    "plot(params, metrics)\n",
    "\n",
    "fig = matplotlib.pyplot.gcf()\n",
    "\n",
    "pyplot.xscale(\"log\")\n",
    "\n",
    "# Figure 7: Metrics for varying levels of L1 regularization"
   ]
  },
  {
   "cell_type": "code",
   "execution_count": 184,
   "metadata": {},
   "outputs": [
    {
     "name": "stdout",
     "output_type": "stream",
     "text": [
      "L1 (1.0) number of zero weights: 5\n",
      "L1 (10.0) number of zeros weights: 33\n",
      "L1 (100.0) number of zeros weights: 58\n"
     ]
    }
   ],
   "source": [
    "# L1 Regularization using sparse weight vectors\n",
    "\n",
    "model_l1 = LinearRegressionWithSGD.train(train_data, 10, 0.1, regParam=1.0, regType=\"l1\", intercept=False)\n",
    "\n",
    "model_l1_10 = LinearRegressionWithSGD.train(train_data, 10, 0.1, regParam=10.0, regType=\"l1\", intercept=False)\n",
    "\n",
    "model_l1_100 = LinearRegressionWithSGD.train(train_data, 10, 0.1, regParam=100.0, regType=\"l1\", intercept=False)\n",
    "\n",
    "print (\"L1 (1.0) number of zero weights: \" + str(sum(model_l1.weights.array == 0)))\n",
    "\n",
    "print (\"L1 (10.0) number of zeros weights: \" + str(sum(model_l1_10.weights.array == 0)))\n",
    "\n",
    "print (\"L1 (100.0) number of zeros weights: \" +str(sum(model_l1_100.weights.array == 0)))"
   ]
  },
  {
   "cell_type": "code",
   "execution_count": 185,
   "metadata": {},
   "outputs": [
    {
     "name": "stdout",
     "output_type": "stream",
     "text": [
      "[False, True]\n",
      "[1.4055537710502843, 1.4363265851099394]\n"
     ]
    },
    {
     "data": {
      "image/png": "[encoded data removed]",
      "text/plain": [
       "<Figure size 432x288 with 1 Axes>"
      ]
     },
     "metadata": {
      "needs_background": "light"
     },
     "output_type": "display_data"
    }
   ],
   "source": [
    "# 7.5 Intercept\n",
    "\n",
    "params = [False, True]\n",
    "\n",
    "metrics = [evaluate(train_data, test_data, 10, 0.1, 1.0, \"l2\", param) for param in params]\n",
    "\n",
    "print (params)\n",
    "\n",
    "print (metrics)\n",
    "\n",
    "bar(params, metrics, color=\"lightblue\")\n",
    "\n",
    "fig = matplotlib.pyplot.gcf()\n",
    "\n",
    "# Figure 8: Metrics without and with an intercept"
   ]
  },
  {
   "cell_type": "code",
   "execution_count": 189,
   "metadata": {},
   "outputs": [],
   "source": [
    "# 8 The impact of parameter on Decision Tree\n",
    "\n",
    "def evaluate_dt(train, test, maxDepth, maxBins):\n",
    "    model = DecisionTree.trainRegressor(\n",
    "        train, {}, impurity=\"variance\", \n",
    "        maxDepth=maxDepth, \n",
    "        maxBins=maxBins\n",
    "    )\n",
    "    preds = model.predict(test.map(lambda p: p.features))\n",
    "    actual = test.map(lambda p: p.label)\n",
    "    tp = actual.zip(preds)\n",
    "    rmsle = np.sqrt(tp.map(lambda args: squared_log_error(args[0], args[1])).mean())\n",
    "    return rmsle\n"
   ]
  },
  {
   "cell_type": "code",
   "execution_count": 192,
   "metadata": {},
   "outputs": [
    {
     "name": "stdout",
     "output_type": "stream",
     "text": [
      "[1, 2, 3, 4, 5, 10, 20]\n",
      "[1.0030410468296214, 0.9056056022124617, 0.8043230526513167, 0.7288878493078937, 0.6362063552427675, 0.43251136385116556, 0.45938487554067176]\n"
     ]
    },
    {
     "data": {
      "image/png": "[encoded data removed]",
      "text/plain": [
       "<Figure size 432x288 with 1 Axes>"
      ]
     },
     "metadata": {
      "needs_background": "light"
     },
     "output_type": "display_data"
    }
   ],
   "source": [
    "# 8.1 Tree Depth\n",
    "\n",
    "params = [1, 2, 3, 4, 5, 10, 20]\n",
    "\n",
    "metrics = [evaluate_dt(train_data_dt, test_data_dt, param, 32) for param in params]\n",
    "\n",
    "print (params)\n",
    "\n",
    "print (metrics)\n",
    "\n",
    "plot(params, metrics)\n",
    "\n",
    "fig = matplotlib.pyplot.gcf()\n",
    "\n",
    "# Figure 9: Metrics for different tree depths"
   ]
  },
  {
   "cell_type": "code",
   "execution_count": 193,
   "metadata": {},
   "outputs": [
    {
     "name": "stdout",
     "output_type": "stream",
     "text": [
      "[2, 4, 8, 16, 32, 64, 100]\n",
      "[1.2573502739272653, 0.8040386853025852, 0.7440397601011514, 0.6187627728845777, 0.6362063552427675, 0.6362063552427675, 0.6362063552427675]\n"
     ]
    },
    {
     "data": {
      "image/png": "[encoded data removed]",
      "text/plain": [
       "<Figure size 432x288 with 1 Axes>"
      ]
     },
     "metadata": {
      "needs_background": "light"
     },
     "output_type": "display_data"
    }
   ],
   "source": [
    "# 8.2 Maximum bins\n",
    "\n",
    "params = [2, 4, 8, 16, 32, 64, 100]\n",
    "\n",
    "metrics = [evaluate_dt(train_data_dt, test_data_dt, 5, param) for param in params]\n",
    "\n",
    "print (params)\n",
    "\n",
    "print (metrics)\n",
    "\n",
    "plot(params, metrics)\n",
    "\n",
    "fig = matplotlib.pyplot.gcf()\n",
    "\n",
    "# Figure 10: Metrics for different maximum bins"
   ]
  },
  {
   "cell_type": "code",
   "execution_count": 204,
   "metadata": {},
   "outputs": [
    {
     "data": {
      "text/plain": [
       "8.0"
      ]
     },
     "execution_count": 204,
     "metadata": {},
     "output_type": "execute_result"
    }
   ],
   "source": [
    "train_data_dt.first().label"
   ]
  },
  {
   "cell_type": "code",
   "execution_count": 221,
   "metadata": {},
   "outputs": [
    {
     "name": "stdout",
     "output_type": "stream",
     "text": [
      "Gradient Boosted Tree predictions: [(16.0, 46.167216204732135), (40.0, 46.167216204732135), (32.0, 17.808113781421504), (13.0, 17.808113781421504), (1.0, 17.808113781421504)]\n",
      "Gradient Boosted Tree Tree depth: 3\n",
      "Gradient Boosted Tree number of nodes: 45\n",
      "Gradient Boosted Tree – Mean Squared Error: 13698.5518\n",
      "Gradient Boosted Tree – Mean Absolute Error: 81.1557\n",
      "Gradient Boosted Tree – Root Mean Squared Log Error: 0.7801\n"
     ]
    }
   ],
   "source": [
    "## Analysis for Gradient Boosted Tree\n",
    "\n",
    "from pyspark.ml.classification import GBTClassifier\n",
    "\n",
    "\n",
    "from pyspark.mllib.tree import GradientBoostedTrees\n",
    "\n",
    "# Train a GBT model.\n",
    "gbt_model = GradientBoostedTrees.trainRegressor(data_dt,categoricalFeaturesInfo={}, numIterations=3)\n",
    "\n",
    "# model = GradientBoostedTrees.trainClassifier(trainingData,\n",
    "#                                              categoricalFeaturesInfo={}, numIterations=3)\n",
    "\n",
    "# # Evaluate model on test instances and compute test error\n",
    "# predictions = model.predict(testData.map(lambda x: x.features))\n",
    "# labelsAndPredictions = testData.map(lambda lp: lp.label).zip(predictions)\n",
    "# testErr = labelsAndPredictions.filter(lambda (v, p): v != p).count() / float(testData.count())\n",
    "# print('Test Error = ' + str(testErr))\n",
    "# print('Learned classification GBT model:')\n",
    "# print(model.toDebugString())\n",
    "\n",
    "\n",
    "# dt_model = DecisionTree.trainRegressor(data_dt,{})\n",
    "\n",
    "preds = gbt_model.predict(data_dt.map(lambda p: p.features))\n",
    "\n",
    "actual = data.map(lambda p: p.label)\n",
    "\n",
    "true_vs_predicted_gbt = actual.zip(preds)\n",
    "\n",
    "print (\"Gradient Boosted Tree predictions: \" + str(true_vs_predicted_gbt.take(5)))\n",
    "\n",
    "print (\"Gradient Boosted Tree Tree depth: \" + str(gbt_model.numTrees()))\n",
    "\n",
    "print (\"Gradient Boosted Tree number of nodes: \" + str(gbt_model.totalNumNodes()))\n",
    "\n",
    "## Error rates for Gradient Boosted Trees\n",
    "\n",
    "mse_dt = true_vs_predicted_gbt.map(lambda args: squared_error(args[0], args[1])).mean()\n",
    "\n",
    "mae_dt = true_vs_predicted_gbt.map(lambda args: abs_error(args[0], args[1])).mean()\n",
    "\n",
    "rmsle_dt = np.sqrt(true_vs_predicted_gbt.map(lambda args: squared_log_error(args[0], args[1])).mean())\n",
    "\n",
    "print (\"Gradient Boosted Tree – Mean Squared Error: %2.4f\" % mse_dt)\n",
    "\n",
    "print (\"Gradient Boosted Tree – Mean Absolute Error: %2.4f\" % mae_dt)\n",
    "\n",
    "print (\"Gradient Boosted Tree – Root Mean Squared Log Error: %2.4f\" % rmsle_dt)"
   ]
  },
  {
   "cell_type": "code",
   "execution_count": 224,
   "metadata": {},
   "outputs": [],
   "source": [
    "# Gradient boost tree iterations \n",
    "# 8 The impact of parameter on Gradient Boosted Tree\n",
    "\n",
    "def evaluate_gradient_boosted_tree(train, test, maxDepth, maxBins):\n",
    "    gbt_model = GradientBoostedTrees.trainRegressor(\n",
    "        train, categoricalFeaturesInfo={},\n",
    "        numIterations=2,\n",
    "        maxDepth=maxDepth, maxBins=maxBins\n",
    "    )\n",
    "    preds = gbt_model.predict(test.map(lambda p: p.features))\n",
    "    # preds = model.predict(test.map(lambda p: p.features))\n",
    "    actual = test.map(lambda p: p.label)\n",
    "    tp = actual.zip(preds)\n",
    "    rmsle = np.sqrt(tp.map(lambda args: squared_log_error(args[0], args[1])).mean())\n",
    "    return rmsle"
   ]
  },
  {
   "cell_type": "code",
   "execution_count": 218,
   "metadata": {},
   "outputs": [
    {
     "name": "stderr",
     "output_type": "stream",
     "text": [
      "/home/purnesh/spark-2.3.2-bin-hadoop2.7/python/pyspark/statcounter.py:80: RuntimeWarning: invalid value encountered in maximum\n",
      "  self.maxValue = maximum(self.maxValue, other.maxValue)\n",
      "/home/purnesh/spark-2.3.2-bin-hadoop2.7/python/pyspark/statcounter.py:81: RuntimeWarning: invalid value encountered in minimum\n",
      "  self.minValue = minimum(self.minValue, other.minValue)\n"
     ]
    },
    {
     "ename": "KeyboardInterrupt",
     "evalue": "",
     "output_type": "error",
     "traceback": [
      "\u001b[0;31m---------------------------------------------------------------------------\u001b[0m",
      "\u001b[0;31mKeyboardInterrupt\u001b[0m                         Traceback (most recent call last)",
      "\u001b[0;32m<ipython-input-218-f1927f9fa56b>\u001b[0m in \u001b[0;36m<module>\u001b[0;34m()\u001b[0m\n\u001b[1;32m      3\u001b[0m \u001b[0mparams\u001b[0m \u001b[0;34m=\u001b[0m \u001b[0;34m[\u001b[0m\u001b[0;36m1\u001b[0m\u001b[0;34m,\u001b[0m \u001b[0;36m2\u001b[0m\u001b[0;34m,\u001b[0m \u001b[0;36m3\u001b[0m\u001b[0;34m,\u001b[0m \u001b[0;36m4\u001b[0m\u001b[0;34m,\u001b[0m \u001b[0;36m5\u001b[0m\u001b[0;34m,\u001b[0m \u001b[0;36m10\u001b[0m\u001b[0;34m,\u001b[0m \u001b[0;36m20\u001b[0m\u001b[0;34m]\u001b[0m\u001b[0;34m\u001b[0m\u001b[0m\n\u001b[1;32m      4\u001b[0m \u001b[0;34m\u001b[0m\u001b[0m\n\u001b[0;32m----> 5\u001b[0;31m \u001b[0mmetrics\u001b[0m \u001b[0;34m=\u001b[0m \u001b[0;34m[\u001b[0m\u001b[0mevaluate_gradient_boosted_tree\u001b[0m\u001b[0;34m(\u001b[0m\u001b[0mtrain_data_dt\u001b[0m\u001b[0;34m,\u001b[0m \u001b[0mtest_data_dt\u001b[0m\u001b[0;34m,\u001b[0m \u001b[0mparam\u001b[0m\u001b[0;34m,\u001b[0m \u001b[0;36m32\u001b[0m\u001b[0;34m)\u001b[0m \u001b[0;32mfor\u001b[0m \u001b[0mparam\u001b[0m \u001b[0;32min\u001b[0m \u001b[0mparams\u001b[0m\u001b[0;34m]\u001b[0m\u001b[0;34m\u001b[0m\u001b[0m\n\u001b[0m\u001b[1;32m      6\u001b[0m \u001b[0;34m\u001b[0m\u001b[0m\n\u001b[1;32m      7\u001b[0m \u001b[0mprint\u001b[0m \u001b[0;34m(\u001b[0m\u001b[0mparams\u001b[0m\u001b[0;34m)\u001b[0m\u001b[0;34m\u001b[0m\u001b[0m\n",
      "\u001b[0;32m<ipython-input-218-f1927f9fa56b>\u001b[0m in \u001b[0;36m<listcomp>\u001b[0;34m(.0)\u001b[0m\n\u001b[1;32m      3\u001b[0m \u001b[0mparams\u001b[0m \u001b[0;34m=\u001b[0m \u001b[0;34m[\u001b[0m\u001b[0;36m1\u001b[0m\u001b[0;34m,\u001b[0m \u001b[0;36m2\u001b[0m\u001b[0;34m,\u001b[0m \u001b[0;36m3\u001b[0m\u001b[0;34m,\u001b[0m \u001b[0;36m4\u001b[0m\u001b[0;34m,\u001b[0m \u001b[0;36m5\u001b[0m\u001b[0;34m,\u001b[0m \u001b[0;36m10\u001b[0m\u001b[0;34m,\u001b[0m \u001b[0;36m20\u001b[0m\u001b[0;34m]\u001b[0m\u001b[0;34m\u001b[0m\u001b[0m\n\u001b[1;32m      4\u001b[0m \u001b[0;34m\u001b[0m\u001b[0m\n\u001b[0;32m----> 5\u001b[0;31m \u001b[0mmetrics\u001b[0m \u001b[0;34m=\u001b[0m \u001b[0;34m[\u001b[0m\u001b[0mevaluate_gradient_boosted_tree\u001b[0m\u001b[0;34m(\u001b[0m\u001b[0mtrain_data_dt\u001b[0m\u001b[0;34m,\u001b[0m \u001b[0mtest_data_dt\u001b[0m\u001b[0;34m,\u001b[0m \u001b[0mparam\u001b[0m\u001b[0;34m,\u001b[0m \u001b[0;36m32\u001b[0m\u001b[0;34m)\u001b[0m \u001b[0;32mfor\u001b[0m \u001b[0mparam\u001b[0m \u001b[0;32min\u001b[0m \u001b[0mparams\u001b[0m\u001b[0;34m]\u001b[0m\u001b[0;34m\u001b[0m\u001b[0m\n\u001b[0m\u001b[1;32m      6\u001b[0m \u001b[0;34m\u001b[0m\u001b[0m\n\u001b[1;32m      7\u001b[0m \u001b[0mprint\u001b[0m \u001b[0;34m(\u001b[0m\u001b[0mparams\u001b[0m\u001b[0;34m)\u001b[0m\u001b[0;34m\u001b[0m\u001b[0m\n",
      "\u001b[0;32m<ipython-input-217-41f8c51c383e>\u001b[0m in \u001b[0;36mevaluate_gradient_boosted_tree\u001b[0;34m(train, test, maxDepth, maxBins)\u001b[0m\n\u001b[1;32m      5\u001b[0m     model = GradientBoostedTrees.trainRegressor(\n\u001b[1;32m      6\u001b[0m         \u001b[0mtrain\u001b[0m\u001b[0;34m,\u001b[0m \u001b[0mcategoricalFeaturesInfo\u001b[0m\u001b[0;34m=\u001b[0m\u001b[0;34m{\u001b[0m\u001b[0;34m}\u001b[0m\u001b[0;34m,\u001b[0m\u001b[0;34m\u001b[0m\u001b[0m\n\u001b[0;32m----> 7\u001b[0;31m         \u001b[0mmaxDepth\u001b[0m\u001b[0;34m=\u001b[0m\u001b[0mmaxDepth\u001b[0m\u001b[0;34m,\u001b[0m \u001b[0mmaxBins\u001b[0m\u001b[0;34m=\u001b[0m\u001b[0mmaxBins\u001b[0m\u001b[0;34m\u001b[0m\u001b[0m\n\u001b[0m\u001b[1;32m      8\u001b[0m     )\n\u001b[1;32m      9\u001b[0m     \u001b[0mpreds\u001b[0m \u001b[0;34m=\u001b[0m \u001b[0mmodel\u001b[0m\u001b[0;34m.\u001b[0m\u001b[0mpredict\u001b[0m\u001b[0;34m(\u001b[0m\u001b[0mtest\u001b[0m\u001b[0;34m.\u001b[0m\u001b[0mmap\u001b[0m\u001b[0;34m(\u001b[0m\u001b[0;32mlambda\u001b[0m \u001b[0mp\u001b[0m\u001b[0;34m:\u001b[0m \u001b[0mp\u001b[0m\u001b[0;34m.\u001b[0m\u001b[0mfeatures\u001b[0m\u001b[0;34m)\u001b[0m\u001b[0;34m)\u001b[0m\u001b[0;34m\u001b[0m\u001b[0m\n",
      "\u001b[0;32m~/spark-2.3.2-bin-hadoop2.7/python/pyspark/mllib/tree.py\u001b[0m in \u001b[0;36mtrainRegressor\u001b[0;34m(cls, data, categoricalFeaturesInfo, loss, numIterations, learningRate, maxDepth, maxBins)\u001b[0m\n\u001b[1;32m    640\u001b[0m         \"\"\"\n\u001b[1;32m    641\u001b[0m         return cls._train(data, \"regression\", categoricalFeaturesInfo,\n\u001b[0;32m--> 642\u001b[0;31m                           loss, numIterations, learningRate, maxDepth, maxBins)\n\u001b[0m\u001b[1;32m    643\u001b[0m \u001b[0;34m\u001b[0m\u001b[0m\n\u001b[1;32m    644\u001b[0m \u001b[0;34m\u001b[0m\u001b[0m\n",
      "\u001b[0;32m~/spark-2.3.2-bin-hadoop2.7/python/pyspark/mllib/tree.py\u001b[0m in \u001b[0;36m_train\u001b[0;34m(cls, data, algo, categoricalFeaturesInfo, loss, numIterations, learningRate, maxDepth, maxBins)\u001b[0m\n\u001b[1;32m    503\u001b[0m         \u001b[0;32massert\u001b[0m \u001b[0misinstance\u001b[0m\u001b[0;34m(\u001b[0m\u001b[0mfirst\u001b[0m\u001b[0;34m,\u001b[0m \u001b[0mLabeledPoint\u001b[0m\u001b[0;34m)\u001b[0m\u001b[0;34m,\u001b[0m \u001b[0;34m\"the data should be RDD of LabeledPoint\"\u001b[0m\u001b[0;34m\u001b[0m\u001b[0m\n\u001b[1;32m    504\u001b[0m         model = callMLlibFunc(\"trainGradientBoostedTreesModel\", data, algo, categoricalFeaturesInfo,\n\u001b[0;32m--> 505\u001b[0;31m                               loss, numIterations, learningRate, maxDepth, maxBins)\n\u001b[0m\u001b[1;32m    506\u001b[0m         \u001b[0;32mreturn\u001b[0m \u001b[0mGradientBoostedTreesModel\u001b[0m\u001b[0;34m(\u001b[0m\u001b[0mmodel\u001b[0m\u001b[0;34m)\u001b[0m\u001b[0;34m\u001b[0m\u001b[0m\n\u001b[1;32m    507\u001b[0m \u001b[0;34m\u001b[0m\u001b[0m\n",
      "\u001b[0;32m~/spark-2.3.2-bin-hadoop2.7/python/pyspark/mllib/common.py\u001b[0m in \u001b[0;36mcallMLlibFunc\u001b[0;34m(name, *args)\u001b[0m\n\u001b[1;32m    128\u001b[0m     \u001b[0msc\u001b[0m \u001b[0;34m=\u001b[0m \u001b[0mSparkContext\u001b[0m\u001b[0;34m.\u001b[0m\u001b[0mgetOrCreate\u001b[0m\u001b[0;34m(\u001b[0m\u001b[0;34m)\u001b[0m\u001b[0;34m\u001b[0m\u001b[0m\n\u001b[1;32m    129\u001b[0m     \u001b[0mapi\u001b[0m \u001b[0;34m=\u001b[0m \u001b[0mgetattr\u001b[0m\u001b[0;34m(\u001b[0m\u001b[0msc\u001b[0m\u001b[0;34m.\u001b[0m\u001b[0m_jvm\u001b[0m\u001b[0;34m.\u001b[0m\u001b[0mPythonMLLibAPI\u001b[0m\u001b[0;34m(\u001b[0m\u001b[0;34m)\u001b[0m\u001b[0;34m,\u001b[0m \u001b[0mname\u001b[0m\u001b[0;34m)\u001b[0m\u001b[0;34m\u001b[0m\u001b[0m\n\u001b[0;32m--> 130\u001b[0;31m     \u001b[0;32mreturn\u001b[0m \u001b[0mcallJavaFunc\u001b[0m\u001b[0;34m(\u001b[0m\u001b[0msc\u001b[0m\u001b[0;34m,\u001b[0m \u001b[0mapi\u001b[0m\u001b[0;34m,\u001b[0m \u001b[0;34m*\u001b[0m\u001b[0margs\u001b[0m\u001b[0;34m)\u001b[0m\u001b[0;34m\u001b[0m\u001b[0m\n\u001b[0m\u001b[1;32m    131\u001b[0m \u001b[0;34m\u001b[0m\u001b[0m\n\u001b[1;32m    132\u001b[0m \u001b[0;34m\u001b[0m\u001b[0m\n",
      "\u001b[0;32m~/spark-2.3.2-bin-hadoop2.7/python/pyspark/mllib/common.py\u001b[0m in \u001b[0;36mcallJavaFunc\u001b[0;34m(sc, func, *args)\u001b[0m\n\u001b[1;32m    121\u001b[0m     \u001b[0;34m\"\"\" Call Java Function \"\"\"\u001b[0m\u001b[0;34m\u001b[0m\u001b[0m\n\u001b[1;32m    122\u001b[0m     \u001b[0margs\u001b[0m \u001b[0;34m=\u001b[0m \u001b[0;34m[\u001b[0m\u001b[0m_py2java\u001b[0m\u001b[0;34m(\u001b[0m\u001b[0msc\u001b[0m\u001b[0;34m,\u001b[0m \u001b[0ma\u001b[0m\u001b[0;34m)\u001b[0m \u001b[0;32mfor\u001b[0m \u001b[0ma\u001b[0m \u001b[0;32min\u001b[0m \u001b[0margs\u001b[0m\u001b[0;34m]\u001b[0m\u001b[0;34m\u001b[0m\u001b[0m\n\u001b[0;32m--> 123\u001b[0;31m     \u001b[0;32mreturn\u001b[0m \u001b[0m_java2py\u001b[0m\u001b[0;34m(\u001b[0m\u001b[0msc\u001b[0m\u001b[0;34m,\u001b[0m \u001b[0mfunc\u001b[0m\u001b[0;34m(\u001b[0m\u001b[0;34m*\u001b[0m\u001b[0margs\u001b[0m\u001b[0;34m)\u001b[0m\u001b[0;34m)\u001b[0m\u001b[0;34m\u001b[0m\u001b[0m\n\u001b[0m\u001b[1;32m    124\u001b[0m \u001b[0;34m\u001b[0m\u001b[0m\n\u001b[1;32m    125\u001b[0m \u001b[0;34m\u001b[0m\u001b[0m\n",
      "\u001b[0;32m~/spark-2.3.2-bin-hadoop2.7/python/lib/py4j-0.10.7-src.zip/py4j/java_gateway.py\u001b[0m in \u001b[0;36m__call__\u001b[0;34m(self, *args)\u001b[0m\n\u001b[1;32m   1253\u001b[0m             \u001b[0mproto\u001b[0m\u001b[0;34m.\u001b[0m\u001b[0mEND_COMMAND_PART\u001b[0m\u001b[0;34m\u001b[0m\u001b[0m\n\u001b[1;32m   1254\u001b[0m \u001b[0;34m\u001b[0m\u001b[0m\n\u001b[0;32m-> 1255\u001b[0;31m         \u001b[0manswer\u001b[0m \u001b[0;34m=\u001b[0m \u001b[0mself\u001b[0m\u001b[0;34m.\u001b[0m\u001b[0mgateway_client\u001b[0m\u001b[0;34m.\u001b[0m\u001b[0msend_command\u001b[0m\u001b[0;34m(\u001b[0m\u001b[0mcommand\u001b[0m\u001b[0;34m)\u001b[0m\u001b[0;34m\u001b[0m\u001b[0m\n\u001b[0m\u001b[1;32m   1256\u001b[0m         return_value = get_return_value(\n\u001b[1;32m   1257\u001b[0m             answer, self.gateway_client, self.target_id, self.name)\n",
      "\u001b[0;32m~/spark-2.3.2-bin-hadoop2.7/python/lib/py4j-0.10.7-src.zip/py4j/java_gateway.py\u001b[0m in \u001b[0;36msend_command\u001b[0;34m(self, command, retry, binary)\u001b[0m\n\u001b[1;32m    983\u001b[0m         \u001b[0mconnection\u001b[0m \u001b[0;34m=\u001b[0m \u001b[0mself\u001b[0m\u001b[0;34m.\u001b[0m\u001b[0m_get_connection\u001b[0m\u001b[0;34m(\u001b[0m\u001b[0;34m)\u001b[0m\u001b[0;34m\u001b[0m\u001b[0m\n\u001b[1;32m    984\u001b[0m         \u001b[0;32mtry\u001b[0m\u001b[0;34m:\u001b[0m\u001b[0;34m\u001b[0m\u001b[0m\n\u001b[0;32m--> 985\u001b[0;31m             \u001b[0mresponse\u001b[0m \u001b[0;34m=\u001b[0m \u001b[0mconnection\u001b[0m\u001b[0;34m.\u001b[0m\u001b[0msend_command\u001b[0m\u001b[0;34m(\u001b[0m\u001b[0mcommand\u001b[0m\u001b[0;34m)\u001b[0m\u001b[0;34m\u001b[0m\u001b[0m\n\u001b[0m\u001b[1;32m    986\u001b[0m             \u001b[0;32mif\u001b[0m \u001b[0mbinary\u001b[0m\u001b[0;34m:\u001b[0m\u001b[0;34m\u001b[0m\u001b[0m\n\u001b[1;32m    987\u001b[0m                 \u001b[0;32mreturn\u001b[0m \u001b[0mresponse\u001b[0m\u001b[0;34m,\u001b[0m \u001b[0mself\u001b[0m\u001b[0;34m.\u001b[0m\u001b[0m_create_connection_guard\u001b[0m\u001b[0;34m(\u001b[0m\u001b[0mconnection\u001b[0m\u001b[0;34m)\u001b[0m\u001b[0;34m\u001b[0m\u001b[0m\n",
      "\u001b[0;32m~/spark-2.3.2-bin-hadoop2.7/python/lib/py4j-0.10.7-src.zip/py4j/java_gateway.py\u001b[0m in \u001b[0;36msend_command\u001b[0;34m(self, command)\u001b[0m\n\u001b[1;32m   1150\u001b[0m \u001b[0;34m\u001b[0m\u001b[0m\n\u001b[1;32m   1151\u001b[0m         \u001b[0;32mtry\u001b[0m\u001b[0;34m:\u001b[0m\u001b[0;34m\u001b[0m\u001b[0m\n\u001b[0;32m-> 1152\u001b[0;31m             \u001b[0manswer\u001b[0m \u001b[0;34m=\u001b[0m \u001b[0msmart_decode\u001b[0m\u001b[0;34m(\u001b[0m\u001b[0mself\u001b[0m\u001b[0;34m.\u001b[0m\u001b[0mstream\u001b[0m\u001b[0;34m.\u001b[0m\u001b[0mreadline\u001b[0m\u001b[0;34m(\u001b[0m\u001b[0;34m)\u001b[0m\u001b[0;34m[\u001b[0m\u001b[0;34m:\u001b[0m\u001b[0;34m-\u001b[0m\u001b[0;36m1\u001b[0m\u001b[0;34m]\u001b[0m\u001b[0;34m)\u001b[0m\u001b[0;34m\u001b[0m\u001b[0m\n\u001b[0m\u001b[1;32m   1153\u001b[0m             \u001b[0mlogger\u001b[0m\u001b[0;34m.\u001b[0m\u001b[0mdebug\u001b[0m\u001b[0;34m(\u001b[0m\u001b[0;34m\"Answer received: {0}\"\u001b[0m\u001b[0;34m.\u001b[0m\u001b[0mformat\u001b[0m\u001b[0;34m(\u001b[0m\u001b[0manswer\u001b[0m\u001b[0;34m)\u001b[0m\u001b[0;34m)\u001b[0m\u001b[0;34m\u001b[0m\u001b[0m\n\u001b[1;32m   1154\u001b[0m             \u001b[0;32mif\u001b[0m \u001b[0manswer\u001b[0m\u001b[0;34m.\u001b[0m\u001b[0mstartswith\u001b[0m\u001b[0;34m(\u001b[0m\u001b[0mproto\u001b[0m\u001b[0;34m.\u001b[0m\u001b[0mRETURN_MESSAGE\u001b[0m\u001b[0;34m)\u001b[0m\u001b[0;34m:\u001b[0m\u001b[0;34m\u001b[0m\u001b[0m\n",
      "\u001b[0;32m~/anaconda3/lib/python3.7/socket.py\u001b[0m in \u001b[0;36mreadinto\u001b[0;34m(self, b)\u001b[0m\n\u001b[1;32m    587\u001b[0m         \u001b[0;32mwhile\u001b[0m \u001b[0;32mTrue\u001b[0m\u001b[0;34m:\u001b[0m\u001b[0;34m\u001b[0m\u001b[0m\n\u001b[1;32m    588\u001b[0m             \u001b[0;32mtry\u001b[0m\u001b[0;34m:\u001b[0m\u001b[0;34m\u001b[0m\u001b[0m\n\u001b[0;32m--> 589\u001b[0;31m                 \u001b[0;32mreturn\u001b[0m \u001b[0mself\u001b[0m\u001b[0;34m.\u001b[0m\u001b[0m_sock\u001b[0m\u001b[0;34m.\u001b[0m\u001b[0mrecv_into\u001b[0m\u001b[0;34m(\u001b[0m\u001b[0mb\u001b[0m\u001b[0;34m)\u001b[0m\u001b[0;34m\u001b[0m\u001b[0m\n\u001b[0m\u001b[1;32m    590\u001b[0m             \u001b[0;32mexcept\u001b[0m \u001b[0mtimeout\u001b[0m\u001b[0;34m:\u001b[0m\u001b[0;34m\u001b[0m\u001b[0m\n\u001b[1;32m    591\u001b[0m                 \u001b[0mself\u001b[0m\u001b[0;34m.\u001b[0m\u001b[0m_timeout_occurred\u001b[0m \u001b[0;34m=\u001b[0m \u001b[0;32mTrue\u001b[0m\u001b[0;34m\u001b[0m\u001b[0m\n",
      "\u001b[0;31mKeyboardInterrupt\u001b[0m: "
     ]
    }
   ],
   "source": [
    "# Varying Gradient Boosted Depth\n",
    "\n",
    "params = [1, 2, 3, 4, 5, 10, 20]\n",
    "\n",
    "metrics = [evaluate_gradient_boosted_tree(train_data_dt, test_data_dt, param, 32) for param in params]\n",
    "\n",
    "print (params)\n",
    "\n",
    "print (metrics)\n",
    "\n",
    "plot(params, metrics)\n",
    "\n",
    "fig = matplotlib.pyplot.gcf()\n",
    "\n",
    "# Figure 11: Metrics for different tree depths"
   ]
  },
  {
   "cell_type": "code",
   "execution_count": 226,
   "metadata": {},
   "outputs": [
    {
     "name": "stdout",
     "output_type": "stream",
     "text": [
      "[2, 4, 8, 16, 32, 64, 100]\n",
      "[1.2546358291693387, 0.7898569188061434, 0.7151755867170482, 0.5968974030023049, 0.6164627680928461, 0.6164627680928461, 0.6164627680928461]\n"
     ]
    },
    {
     "data": {
      "image/png": "[encoded data removed]",
      "text/plain": [
       "<Figure size 432x288 with 1 Axes>"
      ]
     },
     "metadata": {
      "needs_background": "light"
     },
     "output_type": "display_data"
    }
   ],
   "source": [
    "# Varying Gradient Boosted Tree Maximum bins\n",
    "\n",
    "params = [2, 4, 8, 16, 32, 64, 100]\n",
    "\n",
    "metrics = [evaluate_gradient_boosted_tree(train_data_dt, test_data_dt, 5, param) for param in params]\n",
    "\n",
    "print (params)\n",
    "\n",
    "print (metrics)\n",
    "\n",
    "plot(params, metrics)\n",
    "\n",
    "fig = matplotlib.pyplot.gcf()\n",
    "\n",
    "# Figure 12: Metrics for different maximum bins"
   ]
  },
  {
   "cell_type": "code",
   "execution_count": null,
   "metadata": {},
   "outputs": [],
   "source": []
  }
 ],
 "metadata": {
  "kernelspec": {
   "display_name": "Python 3",
   "language": "python",
   "name": "python3"
  },
  "language_info": {
   "codemirror_mode": {
    "name": "ipython",
    "version": 3
   },
   "file_extension": ".py",
   "mimetype": "text/x-python",
   "name": "python",
   "nbconvert_exporter": "python",
   "pygments_lexer": "ipython3",
   "version": "3.7.0"
  }
 },
 "nbformat": 4,
 "nbformat_minor": 2
}

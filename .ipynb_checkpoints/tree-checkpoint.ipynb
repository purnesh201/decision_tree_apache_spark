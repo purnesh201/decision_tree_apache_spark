{
 "cells": [
  {
   "cell_type": "markdown",
   "metadata": {},
   "source": [
    "# imports"
   ]
  },
  {
   "cell_type": "code",
   "execution_count": 1,
   "metadata": {},
   "outputs": [],
   "source": [
    "import findspark\n",
    "findspark.init('D:\\spark\\spark-2.3.2-bin-hadoop2.7')\n",
    "\n",
    "from pyspark.sql import *\n",
    "from pyspark import SparkContext\n",
    "from pyspark.mllib.regression import LabeledPoint\n",
    "import numpy as np\n",
    "from pyspark.mllib.regression import LinearRegressionWithSGD\n",
    "from pyspark.mllib.tree import DecisionTree, DecisionTreeModel\n",
    "from pyspark.ml.classification import GBTClassifier\n",
    "from pyspark.mllib.tree import GradientBoostedTrees\n",
    "\n"
   ]
  },
  {
   "cell_type": "markdown",
   "metadata": {},
   "source": [
    "# spark Session"
   ]
  },
  {
   "cell_type": "code",
   "execution_count": 2,
   "metadata": {},
   "outputs": [
    {
     "name": "stdout",
     "output_type": "stream",
     "text": [
      "+-----+\n",
      "|hello|\n",
      "+-----+\n",
      "|spark|\n",
      "+-----+\n",
      "\n"
     ]
    }
   ],
   "source": [
    "spark = SparkSession.builder.getOrCreate()\n",
    "\n",
    "df = spark.sql('''select 'spark' as hello ''')\n",
    "df.show()"
   ]
  },
  {
   "cell_type": "markdown",
   "metadata": {},
   "source": [
    "# spark context for files"
   ]
  },
  {
   "cell_type": "code",
   "execution_count": 3,
   "metadata": {},
   "outputs": [
    {
     "data": {
      "text/html": [
       "\n",
       "        <div>\n",
       "            <p><b>SparkContext</b></p>\n",
       "\n",
       "            <p><a href=\"http://LAPTOP-D7NKT8GH:4040\">Spark UI</a></p>\n",
       "\n",
       "            <dl>\n",
       "              <dt>Version</dt>\n",
       "                <dd><code>v2.3.2</code></dd>\n",
       "              <dt>Master</dt>\n",
       "                <dd><code>local[*]</code></dd>\n",
       "              <dt>AppName</dt>\n",
       "                <dd><code>pyspark-shell</code></dd>\n",
       "            </dl>\n",
       "        </div>\n",
       "        "
      ],
      "text/plain": [
       "<SparkContext master=local[*] appName=pyspark-shell>"
      ]
     },
     "execution_count": 3,
     "metadata": {},
     "output_type": "execute_result"
    }
   ],
   "source": [
    "sc = SparkContext.getOrCreate()\n",
    "sc"
   ]
  },
  {
   "cell_type": "markdown",
   "metadata": {},
   "source": [
    "# Reading csv files"
   ]
  },
  {
   "cell_type": "code",
   "execution_count": 4,
   "metadata": {},
   "outputs": [
    {
     "data": {
      "text/plain": [
       "day.csv MapPartitionsRDD[8] at textFile at <unknown>:0"
      ]
     },
     "execution_count": 4,
     "metadata": {},
     "output_type": "execute_result"
    }
   ],
   "source": [
    "hourData = sc.textFile(\"hour_noheader.csv\")\n",
    "dayData = sc.textFile(\"day.csv\")\n",
    "dayData"
   ]
  },
  {
   "cell_type": "code",
   "execution_count": 5,
   "metadata": {},
   "outputs": [
    {
     "data": {
      "text/plain": [
       "['1',\n",
       " '2011-01-01',\n",
       " '1',\n",
       " '0',\n",
       " '1',\n",
       " '0',\n",
       " '0',\n",
       " '6',\n",
       " '0',\n",
       " '1',\n",
       " '0.24',\n",
       " '0.2879',\n",
       " '0.81',\n",
       " '0',\n",
       " '3',\n",
       " '13',\n",
       " '16']"
      ]
     },
     "execution_count": 5,
     "metadata": {},
     "output_type": "execute_result"
    }
   ],
   "source": [
    "data = hourData.map(lambda line: line.split(\",\"))\n",
    "data\n",
    "line_1 = data.first()\n",
    "line_1"
   ]
  },
  {
   "cell_type": "code",
   "execution_count": 6,
   "metadata": {},
   "outputs": [],
   "source": [
    "def mapping(col, iD):\n",
    "    return col.map(lambda line: line[iD]).distinct().zipWithIndex().collectAsMap()"
   ]
  },
  {
   "cell_type": "code",
   "execution_count": 7,
   "metadata": {
    "scrolled": false
   },
   "outputs": [
    {
     "name": "stdout",
     "output_type": "stream",
     "text": [
      "Mapping of first categorical feasture column: {'1': 0, '4': 1, '2': 2, '3': 3}\n"
     ]
    }
   ],
   "source": [
    "print (\"Mapping of first categorical feasture column: %s\" % (mapping(data, 2)))"
   ]
  },
  {
   "cell_type": "code",
   "execution_count": 8,
   "metadata": {},
   "outputs": [],
   "source": [
    "mappingsData = [mapping(data, x) for x in range(2,10)]\n",
    "vetLen = sum(map(len, mappingsData))\n",
    "numLen = len(data.first()[11:15])\n",
    "total = numLen + vetLen"
   ]
  },
  {
   "cell_type": "code",
   "execution_count": 9,
   "metadata": {},
   "outputs": [
    {
     "name": "stdout",
     "output_type": "stream",
     "text": [
      "Feature vector length for categorical features: 57 \n",
      "Feature vector length for numerical features: 4 \n",
      "Total feature vector length: 61 \n"
     ]
    }
   ],
   "source": [
    "print (\"Feature vector length for categorical features: %d \" % vetLen)\n",
    "print (\"Feature vector length for numerical features: %d \" % numLen)\n",
    "print (\"Total feature vector length: %d \" % total)"
   ]
  },
  {
   "cell_type": "code",
   "execution_count": 10,
   "metadata": {},
   "outputs": [
    {
     "data": {
      "text/plain": [
       "array([1.    , 0.    , 0.    , 0.    , 1.    , 0.    , 1.    , 0.    ,\n",
       "       0.    , 0.    , 0.    , 0.    , 0.    , 0.    , 0.    , 0.    ,\n",
       "       0.    , 0.    , 1.    , 0.    , 0.    , 0.    , 0.    , 0.    ,\n",
       "       0.    , 0.    , 0.    , 0.    , 0.    , 0.    , 0.    , 0.    ,\n",
       "       0.    , 0.    , 0.    , 0.    , 0.    , 0.    , 0.    , 0.    ,\n",
       "       0.    , 0.    , 1.    , 0.    , 0.    , 0.    , 0.    , 1.    ,\n",
       "       0.    , 0.    , 0.    , 1.    , 0.    , 0.    , 0.    , 0.    ,\n",
       "       0.    , 0.24  , 0.2879, 0.81  , 0.    ])"
      ]
     },
     "execution_count": 10,
     "metadata": {},
     "output_type": "execute_result"
    }
   ],
   "source": [
    "def features(data):\n",
    "    vecCatLen = np.zeros(vetLen)\n",
    "    x = 0\n",
    "    step = 0\n",
    "    for line in data[2:9]:\n",
    "        mAp = mappingsData[x]\n",
    "        iD = mAp[line]\n",
    "        vecCatLen[iD + step] = 1\n",
    "        x = x + 1\n",
    "        step = step + len(mAp)\n",
    "    vecNumLen = np.array([float(line) for line in data[10:14]])\n",
    "    return np.concatenate((vecCatLen, vecNumLen))\n",
    "\n",
    "def label(data):\n",
    "    return float(data[-1])\n",
    "\n",
    "features(data.first())"
   ]
  },
  {
   "cell_type": "code",
   "execution_count": 11,
   "metadata": {},
   "outputs": [
    {
     "data": {
      "text/plain": [
       "PythonRDD[66] at RDD at PythonRDD.scala:52"
      ]
     },
     "execution_count": 11,
     "metadata": {},
     "output_type": "execute_result"
    }
   ],
   "source": [
    "dataNew = data.map(lambda row: LabeledPoint(label(row), features(row)))\n",
    "dataNew"
   ]
  },
  {
   "cell_type": "code",
   "execution_count": 12,
   "metadata": {},
   "outputs": [
    {
     "data": {
      "text/plain": [
       "LabeledPoint(16.0, [1.0,0.0,0.0,0.0,1.0,0.0,1.0,0.0,0.0,0.0,0.0,0.0,0.0,0.0,0.0,0.0,0.0,0.0,1.0,0.0,0.0,0.0,0.0,0.0,0.0,0.0,0.0,0.0,0.0,0.0,0.0,0.0,0.0,0.0,0.0,0.0,0.0,0.0,0.0,0.0,0.0,0.0,1.0,0.0,0.0,0.0,0.0,1.0,0.0,0.0,0.0,1.0,0.0,0.0,0.0,0.0,0.0,0.24,0.2879,0.81,0.0])"
      ]
     },
     "execution_count": 12,
     "metadata": {},
     "output_type": "execute_result"
    }
   ],
   "source": [
    "newLine_1 = dataNew.first()\n",
    "newLine_1"
   ]
  },
  {
   "cell_type": "code",
   "execution_count": 13,
   "metadata": {},
   "outputs": [
    {
     "name": "stdout",
     "output_type": "stream",
     "text": [
      "Raw Data['1', '0', '1', '0', '0', '6', '0', '1', '0.24', '0.2879', '0.81', '0', '3', '13', '16']\n",
      "Label:16.0\n",
      "Linear Model feature vector:\n",
      "[1.0,0.0,0.0,0.0,1.0,0.0,1.0,0.0,0.0,0.0,0.0,0.0,0.0,0.0,0.0,0.0,0.0,0.0,1.0,0.0,0.0,0.0,0.0,0.0,0.0,0.0,0.0,0.0,0.0,0.0,0.0,0.0,0.0,0.0,0.0,0.0,0.0,0.0,0.0,0.0,0.0,0.0,1.0,0.0,0.0,0.0,0.0,1.0,0.0,0.0,0.0,1.0,0.0,0.0,0.0,0.0,0.0,0.24,0.2879,0.81,0.0]\n",
      "Linear Model feature vector length: 61\n"
     ]
    }
   ],
   "source": [
    "print (\"Raw Data\" + str(line_1[2:]))\n",
    "\n",
    "print (\"Label:\" + str(newLine_1.label))\n",
    "\n",
    "print (\"Linear Model feature vector:\\n\" + str(newLine_1.features))\n",
    "\n",
    "print (\"Linear Model feature vector length: \" + str(len(newLine_1.features)))"
   ]
  },
  {
   "cell_type": "markdown",
   "metadata": {},
   "source": [
    "# Decision Tree. "
   ]
  },
  {
   "cell_type": "code",
   "execution_count": 14,
   "metadata": {},
   "outputs": [
    {
     "name": "stdout",
     "output_type": "stream",
     "text": [
      "Decision Tree feature vector: [1.0,0.0,1.0,0.0,0.0,6.0,0.0,1.0,0.24,0.2879,0.81,0.0]\n",
      "Decision Tree feature vector length:12\n"
     ]
    }
   ],
   "source": [
    "def featuresDT(data):\n",
    "    return np.array(list(map(float, data[2:14])))\n",
    "\n",
    "\n",
    "dataNewDT = data.map(lambda row: LabeledPoint(label(row), featuresDT(row)))\n",
    "\n",
    "dataNewDT.count()\n",
    "\n",
    "point_1_dt = dataNewDT.first()\n",
    "\n",
    "print (\"Decision Tree feature vector: \"  + str(point_1_dt.features))\n",
    "\n",
    "print (\"Decision Tree feature vector length:\" + str(len(point_1_dt.features)))"
   ]
  },
  {
   "cell_type": "code",
   "execution_count": 15,
   "metadata": {},
   "outputs": [
    {
     "data": {
      "text/plain": [
       "{'func': <function pyspark.rdd.PipelinedRDD.__init__.<locals>.pipeline_func(split, iterator)>,\n",
       " 'preservesPartitioning': False,\n",
       " '_prev_jrdd': JavaObject id=o29,\n",
       " '_prev_jrdd_deserializer': UTF8Deserializer(True),\n",
       " 'is_cached': False,\n",
       " 'is_checkpointed': False,\n",
       " 'ctx': <SparkContext master=local[*] appName=pyspark-shell>,\n",
       " 'prev': PythonRDD[70] at RDD at PythonRDD.scala:52,\n",
       " '_jrdd_val': None,\n",
       " '_id': None,\n",
       " '_jrdd_deserializer': AutoBatchedSerializer(PickleSerializer()),\n",
       " '_bypass_serializer': False,\n",
       " 'partitioner': None}"
      ]
     },
     "execution_count": 15,
     "metadata": {},
     "output_type": "execute_result"
    }
   ],
   "source": [
    "dataNewDT.__dict__\n"
   ]
  },
  {
   "cell_type": "code",
   "execution_count": 16,
   "metadata": {},
   "outputs": [
    {
     "data": {
      "text/plain": [
       "(weights=[3.3144115781658394,12.734752762697337,13.869421452255626,16.857502533637312,13.045454848254282,33.730633478501844,0.545990902670924,3.7951896813264177,5.57014088759232,5.698747782214591,5.227854841855272,2.270220936076588,1.1140362255411778,2.735609036197668,5.2056189563454,5.6553423011491315,5.387480141110341,3.569856634676279,-0.8608744230912329,-1.28183393183467,-1.7817209305523372,5.490522547320561,2.580624686846815,1.6289668745035646,3.2887019895428766,3.0295121883445417,4.518462048105712,7.643287141022094,4.500822941565794,2.7215469373133234,1.6027764691405157,0.7499347148067798,-1.4831037059634251,-1.6739972713511768,-1.5463459086913076,-0.39350799059991726,2.4357274517345484,2.345521139866199,3.2980095879861917,3.2432593465068877,6.8753820502965555,-0.15558562606278592,45.40524838674942,1.3708399400067088,6.368139189481729,6.359053373778718,6.890694358482135,7.308593282112572,6.426534813671129,6.4781589062650635,6.944914402964768,15.04757241160101,31.7285159151551,0.0,0.0,0.0,0.0,29.489225789944953,27.766346636687636,23.4750141907364,9.969228798667015], intercept=0.0)"
      ]
     },
     "execution_count": 16,
     "metadata": {},
     "output_type": "execute_result"
    }
   ],
   "source": [
    "linearModel = LinearRegressionWithSGD.train(dataNew, iterations=10, step=0.1, intercept=False)\n",
    "linearModel"
   ]
  },
  {
   "cell_type": "code",
   "execution_count": 17,
   "metadata": {},
   "outputs": [
    {
     "name": "stdout",
     "output_type": "stream",
     "text": [
      "predictions of Tree: [(16.0, 117.89250386724846), (40.0, 116.2249612319211), (32.0, 116.02369145779235), (13.0, 115.67088016754433), (1.0, 115.56315650834317)]\n"
     ]
    }
   ],
   "source": [
    "predictedVStrue = dataNew.map(lambda line: (line.label, linearModel.predict(line.features)))\n",
    "predictedVStrue\n",
    "print (\"predictions of Tree: \" + str(predictedVStrue.take(5)))"
   ]
  },
  {
   "cell_type": "markdown",
   "metadata": {},
   "source": [
    "# Tree predictions"
   ]
  },
  {
   "cell_type": "code",
   "execution_count": 18,
   "metadata": {},
   "outputs": [
    {
     "name": "stdout",
     "output_type": "stream",
     "text": [
      "predictions of Tree: [(16.0, 54.913223140495866), (40.0, 54.913223140495866), (32.0, 53.171052631578945), (13.0, 14.284023668639053), (1.0, 14.284023668639053)]\n",
      "depth of Tree: 5\n",
      "number of nodes for Tree: 63\n"
     ]
    }
   ],
   "source": [
    "modelDT = DecisionTree.trainRegressor(dataNewDT,{})\n",
    "\n",
    "predictionModel = modelDT.predict(dataNewDT.map(lambda x: x.features))\n",
    "\n",
    "actualModel = dataNew.map(lambda x: x.label)\n",
    "\n",
    "predictedVStrueDT = actualModel.zip(predictionModel)\n",
    "\n",
    "print (\"predictions of Tree: \" + str(predictedVStrueDT.take(5)))\n",
    "\n",
    "print (\"depth of Tree: \" + str(modelDT.depth()))\n",
    "\n",
    "print (\"number of nodes for Tree: \" + str(modelDT.numNodes()))"
   ]
  },
  {
   "cell_type": "markdown",
   "metadata": {},
   "source": [
    "# Error Functions"
   ]
  },
  {
   "cell_type": "code",
   "execution_count": 19,
   "metadata": {},
   "outputs": [],
   "source": [
    "def errorSquared(actualModel, predictionModel):\n",
    "    return (predictionModel - actualModel)**2\n",
    "\n",
    "def errorABS(actualModel, predictionModel):\n",
    "    return np.abs(predictionModel - actualModel)\n",
    "\n",
    "def errorSquaredLog(predictionModel, actualModel):\n",
    "    return (np.log(predictionModel + 1) - np.log(actualModel + 1))**2"
   ]
  },
  {
   "cell_type": "markdown",
   "metadata": {},
   "source": [
    "# Linear Model"
   ]
  },
  {
   "cell_type": "code",
   "execution_count": 20,
   "metadata": {},
   "outputs": [
    {
     "name": "stdout",
     "output_type": "stream",
     "text": [
      "Mean Squared Error: 30679.4539\n",
      "Mean Absolute Error: 130.6429\n",
      "Root Mean Squared Log Error: 1.4653\n"
     ]
    }
   ],
   "source": [
    "mean_squared_error = predictedVStrue.map(lambda args: errorSquared(args[0], args[1])).mean()\n",
    "\n",
    "mean_absolute_error = predictedVStrue.map(lambda args: errorABS(args[0], args[1])).mean()\n",
    "\n",
    "root_mean_squared_log_error = np.sqrt(predictedVStrue.map(lambda args: errorSquaredLog(args[0], args[1])).mean())\n",
    "\n",
    "print (\"Mean Squared Error: %2.4f\" % mean_squared_error)\n",
    "\n",
    "print (\"Mean Absolute Error: %2.4f\" % mean_absolute_error)\n",
    "\n",
    "print (\"Root Mean Squared Log Error: %2.4f\" % root_mean_squared_log_error)"
   ]
  },
  {
   "cell_type": "markdown",
   "metadata": {},
   "source": [
    "# Decision Tree"
   ]
  },
  {
   "cell_type": "code",
   "execution_count": 21,
   "metadata": {},
   "outputs": [
    {
     "name": "stdout",
     "output_type": "stream",
     "text": [
      "Mean Squared Error: 11611.4860\n",
      "Mean Absolute Error: 71.1502\n",
      "Root Mean Squared Log Error: 0.6251\n"
     ]
    }
   ],
   "source": [
    "mean_squared_error_dt = predictedVStrueDT.map(lambda args: errorSquared(args[0], args[1])).mean()\n",
    "\n",
    "mean_absolute_error_dt = predictedVStrueDT.map(lambda args: errorABS(args[0], args[1])).mean()\n",
    "\n",
    "root_mean_squared_log_error_dt = np.sqrt(predictedVStrueDT.map(lambda args: errorSquaredLog(args[0], args[1])).mean())\n",
    "\n",
    "print (\"Mean Squared Error: %2.4f\" % mean_squared_error_dt)\n",
    "\n",
    "print (\"Mean Absolute Error: %2.4f\" % mean_absolute_error_dt)\n",
    "\n",
    "print (\"Root Mean Squared Log Error: %2.4f\" % root_mean_squared_log_error_dt)\n",
    "\n"
   ]
  },
  {
   "cell_type": "markdown",
   "metadata": {},
   "source": [
    "# matplotlib"
   ]
  },
  {
   "cell_type": "code",
   "execution_count": 22,
   "metadata": {},
   "outputs": [
    {
     "name": "stdout",
     "output_type": "stream",
     "text": [
      "Populating the interactive namespace from numpy and matplotlib\n"
     ]
    }
   ],
   "source": [
    "%pylab inline"
   ]
  },
  {
   "cell_type": "code",
   "execution_count": 23,
   "metadata": {},
   "outputs": [
    {
     "data": {
      "image/png": "[encoded data removed]",
      "text/plain": [
       "<Figure size 1008x720 with 1 Axes>"
      ]
     },
     "metadata": {
      "needs_background": "light"
     },
     "output_type": "display_data"
    }
   ],
   "source": [
    "targets = data.map(lambda row: float(row[-1])).collect()\n",
    "\n",
    "hist(targets, bins=40, color=\"lightblue\", density=True)\n",
    "\n",
    "fig = matplotlib.pyplot.gcf()\n",
    "matplotlib.pyplot.title('Distribution of raw target variable values')\n",
    "\n",
    "fig.set_size_inches(14, 10)"
   ]
  },
  {
   "cell_type": "code",
   "execution_count": 24,
   "metadata": {},
   "outputs": [
    {
     "data": {
      "image/png": "[encoded data removed]",
      "text/plain": [
       "<Figure size 1008x720 with 1 Axes>"
      ]
     },
     "metadata": {
      "needs_background": "light"
     },
     "output_type": "display_data"
    }
   ],
   "source": [
    "\n",
    "targetsLog = data.map(lambda row: np.log(float(row[-1]))).collect()\n",
    "\n",
    "hist(targetsLog, bins=40, color=\"lightblue\", density=True)\n",
    "matplotlib.pyplot.title('Distribution of log-transformed target variable values')\n",
    "\n",
    "fig = matplotlib.pyplot.gcf()\n",
    "\n",
    "fig.set_size_inches(14, 10)"
   ]
  },
  {
   "cell_type": "code",
   "execution_count": 25,
   "metadata": {},
   "outputs": [
    {
     "data": {
      "image/png": "[encoded data removed]",
      "text/plain": [
       "<Figure size 1008x720 with 1 Axes>"
      ]
     },
     "metadata": {
      "needs_background": "light"
     },
     "output_type": "display_data"
    }
   ],
   "source": [
    "\n",
    "targetsSquare = data.map(lambda row: np.sqrt(float(row[-1]))).collect()\n",
    "\n",
    "hist(targetsSquare, bins=40, color=\"lightblue\", density=True)\n",
    "\n",
    "matplotlib.pyplot.title('Distribution of square-root-transformed target variable values')\n",
    "\n",
    "fig = matplotlib.pyplot.gcf()\n",
    "\n",
    "fig.set_size_inches(14, 10)"
   ]
  },
  {
   "cell_type": "markdown",
   "metadata": {},
   "source": [
    "# Log Transformed Targets"
   ]
  },
  {
   "cell_type": "code",
   "execution_count": 26,
   "metadata": {},
   "outputs": [],
   "source": [
    "dataNewLog = dataNew.map(lambda lp: LabeledPoint(np.log(lp.label), lp.features))\n",
    "\n",
    "modelNewlog = LinearRegressionWithSGD.train(dataNewLog, iterations=10, step=0.1)\n",
    "\n",
    "predictedVStrueLog = dataNewLog.map(lambda p: (np.exp(p.label), np.exp(modelNewlog.predict(p.features))))"
   ]
  },
  {
   "cell_type": "code",
   "execution_count": 27,
   "metadata": {},
   "outputs": [
    {
     "name": "stdout",
     "output_type": "stream",
     "text": [
      "Mean Squared Error For Log Transform: 50685.5559\n",
      "Mean Absolue Error For Log Transform: 155.2955\n",
      "Root Mean Squared Log Error For Log Transform: 1.5411\n",
      "Non log-transformed predictions For Log Transform:\n",
      " [(16.0, 117.89250386724846), (40.0, 116.2249612319211), (32.0, 116.02369145779235)]\n",
      "Log-transformed predictions For Log Transform:\n",
      "[(15.999999999999998, 28.080291845456212), (40.0, 26.959480191001784), (32.0, 26.65472562945802)]\n"
     ]
    }
   ],
   "source": [
    "mean_squared_error_log = predictedVStrueLog.map(lambda args: errorSquared(args[0], args[1])).mean()\n",
    "\n",
    "mean_absolue_error_log = predictedVStrueLog.map(lambda args: errorABS(args[0], args[1])).mean()\n",
    "\n",
    "root_mean_squared_error_log = np.sqrt(predictedVStrueLog.map(lambda args: errorSquaredLog(args[0], args[1])).mean())\n",
    "\n",
    "\n",
    "print (\"Mean Squared Error For Log Transform: %2.4f\" % mean_squared_error_log)\n",
    "\n",
    "print (\"Mean Absolue Error For Log Transform: %2.4f\" % mean_absolue_error_log)\n",
    "\n",
    "print (\"Root Mean Squared Log Error For Log Transform: %2.4f\" % root_mean_squared_error_log)\n",
    "\n",
    "print (\"Non log-transformed predictions For Log Transform:\\n \" + str(predictedVStrue.take(3)))\n",
    "\n",
    "print (\"Log-transformed predictions For Log Transform:\\n\" + str(predictedVStrueLog.take(3)))"
   ]
  },
  {
   "cell_type": "markdown",
   "metadata": {},
   "source": [
    "# log analysis for Decision tree"
   ]
  },
  {
   "cell_type": "code",
   "execution_count": 28,
   "metadata": {},
   "outputs": [],
   "source": [
    "\n",
    "dataLogDT = dataNewDT.map(lambda lp: LabeledPoint(np.log(lp.label), lp.features))\n",
    "\n",
    "dataLogDT\n",
    "\n",
    "dtModelLog = DecisionTree.trainRegressor(dataLogDT,{})\n",
    "\n",
    "predictionLog = dtModelLog.predict(dataLogDT.map(lambda p: p.features))\n",
    "\n",
    "actualLog = dataLogDT.map(lambda p: p.label)\n",
    "\n",
    "predictedVStrueDTLog = actualLog.zip(predictionLog).map(lambda args: (np.exp(args[0]), np.exp(args[1])))"
   ]
  },
  {
   "cell_type": "code",
   "execution_count": 29,
   "metadata": {},
   "outputs": [
    {
     "name": "stdout",
     "output_type": "stream",
     "text": [
      "Mean Squared Error For log analysis: 14781.5760\n",
      "Mean Absolue Error For log analysis: 76.4131\n",
      "Root Mean Squared Log Error For log analysis: 0.6406\n",
      "Non log-transformed predictions For log analysis:\n",
      "[(16.0, 54.913223140495866), (40.0, 54.913223140495866), (32.0, 53.171052631578945)]\n",
      "Log-transformed predictions For log analysis:\n",
      " [(15.999999999999998, 37.53077978715451), (40.0, 37.53077978715451), (32.0, 7.279707099390729)]\n"
     ]
    }
   ],
   "source": [
    "mean_squared_error_log_dt = predictedVStrueDTLog.map(lambda args: errorSquared(args[0], args[1])).mean()\n",
    "\n",
    "mean_absolue_error_log_dt = predictedVStrueDTLog.map(lambda args: errorABS(args[0], args[1])).mean()\n",
    "\n",
    "root_mean_squared_error_log_dt = np.sqrt(predictedVStrueDTLog.map(lambda args: errorSquaredLog(args[0], args[1])).mean())\n",
    "\n",
    "print (\"Mean Squared Error For log analysis: %2.4f\" % mean_squared_error_log_dt)\n",
    "\n",
    "print (\"Mean Absolue Error For log analysis: %2.4f\" % mean_absolue_error_log_dt)\n",
    "\n",
    "print (\"Root Mean Squared Log Error For log analysis: %2.4f\" % root_mean_squared_error_log_dt)\n",
    "\n",
    "print (\"Non log-transformed predictions For log analysis:\\n\" + str(predictedVStrueDT.take(3)))\n",
    "\n",
    "print (\"Log-transformed predictions For log analysis:\\n \" + str(predictedVStrueDTLog.take(3)))"
   ]
  },
  {
   "cell_type": "markdown",
   "metadata": {},
   "source": [
    "# Gradient Boosted Tree"
   ]
  },
  {
   "cell_type": "code",
   "execution_count": 30,
   "metadata": {},
   "outputs": [
    {
     "name": "stdout",
     "output_type": "stream",
     "text": [
      "Training data size: 13869\n",
      "Test data size: 3510\n",
      "Total data size: 17379 \n"
     ]
    }
   ],
   "source": [
    "dataIDx = dataNew.zipWithIndex().map(lambda args: (args[1], args[0]))\n",
    "\n",
    "test = dataIDx.sample(False, 0.2, 42)\n",
    "\n",
    "train = dataIDx.subtractByKey(test)\n",
    "\n",
    "trainData = train.map(lambda args: args[1])\n",
    "\n",
    "testData = test.map(lambda args: args[1])\n",
    "\n",
    "trainSize = trainData.count()\n",
    "testSize = testData.count()\n",
    "\n",
    "print (\"Training data size: %d\" % trainSize)\n",
    "\n",
    "print (\"Test data size: %d\" % testSize)\n",
    "\n",
    "print (\"Total data size: %d \" % (trainSize + testSize))"
   ]
  },
  {
   "cell_type": "markdown",
   "metadata": {},
   "source": [
    "# Data Split into training and testing"
   ]
  },
  {
   "cell_type": "code",
   "execution_count": 31,
   "metadata": {},
   "outputs": [],
   "source": [
    "dataIDxDT = dataNewDT.zipWithIndex().map(lambda args: (args[1], args[0]))\n",
    "\n",
    "testDT = dataIDxDT.sample(False, 0.2, 42)\n",
    "\n",
    "trainDT = dataIDxDT.subtractByKey(testDT)\n",
    "\n",
    "trainDataDT = trainDT.map(lambda args: args[1])\n",
    "\n",
    "testDataDT = testDT.map(lambda args: args[1])\n"
   ]
  },
  {
   "cell_type": "code",
   "execution_count": 32,
   "metadata": {},
   "outputs": [
    {
     "data": {
      "text/plain": [
       "TreeEnsembleModel regressor with 3 trees"
      ]
     },
     "execution_count": 32,
     "metadata": {},
     "output_type": "execute_result"
    }
   ],
   "source": [
    "gradientBoostedTreeModel = GradientBoostedTrees.trainRegressor(dataNewDT,categoricalFeaturesInfo={}, numIterations=3)\n",
    "gradientBoostedTreeModel"
   ]
  },
  {
   "cell_type": "code",
   "execution_count": 33,
   "metadata": {},
   "outputs": [
    {
     "name": "stdout",
     "output_type": "stream",
     "text": [
      "predictions for Gradient Boosted Tree: [(16.0, 46.167216204732135), (40.0, 46.167216204732135), (32.0, 17.808113781421504), (13.0, 17.808113781421504), (1.0, 17.808113781421504)]\n",
      "Tree depth for Gradient Boosted Tree: 3\n",
      "number of nodes for Gradient Boosted Tree: 45\n",
      "Mean Squared Error - Gradient Boosted Tree: 13698.5518\n",
      "Mean Absolute Error - Gradient Boosted Tree: 81.1557\n",
      "Root Mean Squared Log Error - Gradient Boosted Tree: 0.7801\n"
     ]
    }
   ],
   "source": [
    "predictionsGradient = gradientBoostedTreeModel.predict(dataNewDT.map(lambda p: p.features))\n",
    "\n",
    "actualGradient = dataNew.map(lambda p: p.label)\n",
    "\n",
    "predictedVStrueGradient = actualGradient.zip(predictionsGradient)\n",
    "\n",
    "print (\"predictions for Gradient Boosted Tree: \" + str(predictedVStrueGradient.take(5)))\n",
    "\n",
    "print (\"Tree depth for Gradient Boosted Tree: \" + str(gradientBoostedTreeModel.numTrees()))\n",
    "\n",
    "print (\"number of nodes for Gradient Boosted Tree: \" + str(gradientBoostedTreeModel.totalNumNodes()))\n",
    "\n",
    "## Error rates for Gradient Boosted Trees\n",
    "\n",
    "mean_squared_error_gradient_dt = predictedVStrueGradient.map(lambda args: errorSquared(args[0], args[1])).mean()\n",
    "\n",
    "mean_absolute_error_gradient_dt = predictedVStrueGradient.map(lambda args: errorABS(args[0], args[1])).mean()\n",
    "\n",
    "root_mean_squarede_error_gradient_dt = np.sqrt(predictedVStrueGradient.map(lambda args: errorSquaredLog(args[0], args[1])).mean())\n",
    "\n",
    "print (\"Mean Squared Error - Gradient Boosted Tree: %2.4f\" % mean_squared_error_gradient_dt)\n",
    "\n",
    "print (\"Mean Absolute Error - Gradient Boosted Tree: %2.4f\" % mean_absolute_error_gradient_dt)\n",
    "\n",
    "print (\"Root Mean Squared Log Error - Gradient Boosted Tree: %2.4f\" % root_mean_squarede_error_gradient_dt)"
   ]
  },
  {
   "cell_type": "markdown",
   "metadata": {},
   "source": [
    "# Gradient boost tree iterations"
   ]
  },
  {
   "cell_type": "code",
   "execution_count": 34,
   "metadata": {},
   "outputs": [],
   "source": [
    "# Gradient boost tree iterations \n",
    "\n",
    "def gradientEvaluate(train, test, maxDepth, maxBins):\n",
    "    gradientModel = GradientBoostedTrees.trainRegressor(\n",
    "        train, categoricalFeaturesInfo={},\n",
    "        numIterations=2,\n",
    "        maxDepth=maxDepth, maxBins=maxBins\n",
    "    )\n",
    "    predictionGradient = gradientModel.predict(test.map(lambda p: p.features))\n",
    "    actualGradient = test.map(lambda p: p.label)\n",
    "    testPrediction = actualGradient.zip(predictionGradient)\n",
    "    root_mean_squarede_error = np.sqrt(testPrediction.map(lambda args: errorSquaredLog(args[0], args[1])).mean())\n",
    "    return root_mean_squarede_error"
   ]
  },
  {
   "cell_type": "markdown",
   "metadata": {},
   "source": [
    "# Gradient Boosted Tree Depth"
   ]
  },
  {
   "cell_type": "code",
   "execution_count": 35,
   "metadata": {},
   "outputs": [
    {
     "name": "stderr",
     "output_type": "stream",
     "text": [
      "D:\\spark\\spark-2.3.2-bin-hadoop2.7\\python\\pyspark\\statcounter.py:80: RuntimeWarning: invalid value encountered in maximum\n",
      "  self.maxValue = maximum(self.maxValue, other.maxValue)\n",
      "D:\\spark\\spark-2.3.2-bin-hadoop2.7\\python\\pyspark\\statcounter.py:81: RuntimeWarning: invalid value encountered in minimum\n",
      "  self.minValue = minimum(self.minValue, other.minValue)\n"
     ]
    },
    {
     "data": {
      "image/png": "[encoded data removed]",
      "text/plain": [
       "<Figure size 432x288 with 1 Axes>"
      ]
     },
     "metadata": {
      "needs_background": "light"
     },
     "output_type": "display_data"
    }
   ],
   "source": [
    "matplotlib.pyplot.title('Metrics for different tree depths')\n",
    "params = [0, 4, 8, 12, 16, 20]\n",
    "\n",
    "metrics = [gradientEvaluate(trainDataDT, testDataDT, param, 32) for param in params]\n",
    "\n",
    "plot(params, metrics)\n",
    "\n",
    "fig = matplotlib.pyplot.gcf()"
   ]
  },
  {
   "cell_type": "markdown",
   "metadata": {},
   "source": [
    "# Gradient Boosted Tree Maximum bins"
   ]
  },
  {
   "cell_type": "code",
   "execution_count": 54,
   "metadata": {},
   "outputs": [
    {
     "data": {
      "image/png": "[encoded data removed]",
      "text/plain": [
       "<Figure size 432x288 with 1 Axes>"
      ]
     },
     "metadata": {
      "needs_background": "light"
     },
     "output_type": "display_data"
    }
   ],
   "source": [
    "params = [2, 4, 6, 8, 16, 30, 45, 60, 75, 90, 105]\n",
    "\n",
    "metrics = [gradientEvaluate(trainDataDT, testDataDT, 5, param) for param in params]\n",
    "\n",
    "plot(params, metrics)\n",
    "\n",
    "matplotlib.pyplot.title('Metrics for different maximum bins')\n",
    "\n",
    "fig = matplotlib.pyplot.gcf()\n"
   ]
  },
  {
   "cell_type": "markdown",
   "metadata": {},
   "source": [
    "# Linear Models"
   ]
  },
  {
   "cell_type": "code",
   "execution_count": 59,
   "metadata": {},
   "outputs": [],
   "source": [
    "def evaluate(train, test, iterations, step, regParam, regType, intercept):\n",
    "    linearModel = LinearRegressionWithSGD.train(\n",
    "        train, iterations, step, regParam=regParam, \n",
    "        regType=regType, intercept=intercept\n",
    "    )\n",
    "    predictionLinear = linearModel.predict(test.map(lambda p: p.features))\n",
    "    actualLinear = test.map(lambda p: p.label)\n",
    "    testPrediction = actualLinear.zip(predictionLinear)\n",
    "    rmsle = np.sqrt(testPrediction.map(lambda args: errorSquaredLog(args[0], args[1])).mean())\n",
    "    return rmsle\n"
   ]
  },
  {
   "cell_type": "markdown",
   "metadata": {},
   "source": [
    "# Comparision with diff iterations"
   ]
  },
  {
   "cell_type": "code",
   "execution_count": 56,
   "metadata": {},
   "outputs": [
    {
     "name": "stdout",
     "output_type": "stream",
     "text": [
      "org.apache.spark.api.java.JavaPairRDD@1d52327\n",
      "org.apache.spark.api.java.JavaPairRDD@150d3e2\n",
      "org.apache.spark.api.java.JavaPairRDD@252306\n",
      "org.apache.spark.api.java.JavaPairRDD@1254ded\n",
      "org.apache.spark.api.java.JavaPairRDD@13b494\n",
      "org.apache.spark.api.java.JavaPairRDD@10b0590\n"
     ]
    },
    {
     "data": {
      "image/png": "[encoded data removed]",
      "text/plain": [
       "<Figure size 432x288 with 1 Axes>"
      ]
     },
     "metadata": {
      "needs_background": "light"
     },
     "output_type": "display_data"
    }
   ],
   "source": [
    "params = [1, 5, 10, 20, 50, 100]\n",
    "\n",
    "metrics = [evaluate(trainData, testData, param, 0.01, 0.0, \"l2\", False) for param in params]\n",
    "\n",
    "plot(params, metrics)\n",
    "\n",
    "fig = matplotlib.pyplot.gcf()\n",
    "\n",
    "matplotlib.pyplot.title('Metrics for varying number of iterations')\n",
    "\n",
    "pyplot.xscale(\"log\")"
   ]
  },
  {
   "cell_type": "markdown",
   "metadata": {},
   "source": [
    "# Performing same test, changing the step size"
   ]
  },
  {
   "cell_type": "code",
   "execution_count": 60,
   "metadata": {},
   "outputs": [
    {
     "data": {
      "image/png": "[encoded data removed]",
      "text/plain": [
       "<Figure size 432x288 with 1 Axes>"
      ]
     },
     "metadata": {
      "needs_background": "light"
     },
     "output_type": "display_data"
    }
   ],
   "source": [
    "params = [0.01, 0.025, 0.05, 0.1, 1.0]\n",
    "\n",
    "metrics = [evaluate(trainData, testData, 10, param, 0.0, \"l2\", False) for param in params]\n",
    "\n",
    "plot(params, metrics)\n",
    "\n",
    "fig = matplotlib.pyplot.gcf()\n",
    "\n",
    "matplotlib.pyplot.title('Metrics for varying values of step size')\n",
    "\n",
    "pyplot.xscale(\"log\")"
   ]
  },
  {
   "cell_type": "markdown",
   "metadata": {},
   "source": [
    "# Regularization"
   ]
  },
  {
   "cell_type": "code",
   "execution_count": 58,
   "metadata": {},
   "outputs": [
    {
     "name": "stdout",
     "output_type": "stream",
     "text": [
      "org.apache.spark.api.java.JavaPairRDD@1db26eb\n",
      "org.apache.spark.api.java.JavaPairRDD@1e37838\n",
      "org.apache.spark.api.java.JavaPairRDD@397364\n",
      "org.apache.spark.api.java.JavaPairRDD@1d10ba5\n",
      "org.apache.spark.api.java.JavaPairRDD@cf7493\n",
      "org.apache.spark.api.java.JavaPairRDD@154c39e\n",
      "org.apache.spark.api.java.JavaPairRDD@7e65f5\n"
     ]
    },
    {
     "data": {
      "image/png": "[encoded data removed]",
      "text/plain": [
       "<Figure size 432x288 with 1 Axes>"
      ]
     },
     "metadata": {
      "needs_background": "light"
     },
     "output_type": "display_data"
    }
   ],
   "source": [
    "\n",
    "params = [0.0, 0.01, 0.1, 1.0, 5.0, 10.0, 20.0]\n",
    "\n",
    "metrics = [evaluate(trainData, testData, 10, 0.1, param, \"l1\", False) for param in params]\n",
    "\n",
    "plot(params, metrics)\n",
    "\n",
    "matplotlib.pyplot.title('Metrics for varying levels of L2 regularization')\n",
    "\n",
    "fig = matplotlib.pyplot.gcf()\n",
    "\n",
    "pyplot.xscale(\"log\")\n"
   ]
  },
  {
   "cell_type": "markdown",
   "metadata": {},
   "source": [
    "# Regularization using sparse weight vectors"
   ]
  },
  {
   "cell_type": "code",
   "execution_count": 62,
   "metadata": {},
   "outputs": [
    {
     "name": "stdout",
     "output_type": "stream",
     "text": [
      "number of zero weights regularization: 5\n",
      "number of zeros weights regularization (10): 33\n",
      "number of zeros weights regularization (100): 58\n"
     ]
    }
   ],
   "source": [
    "\n",
    "model_regType11 = LinearRegressionWithSGD.train(trainData, 10, 0.1, regParam=1.0, regType=\"l1\", intercept=False)\n",
    "\n",
    "model_regType11_regParam10 = LinearRegressionWithSGD.train(trainData, 10, 0.1, regParam=10.0, regType=\"l1\", intercept=False)\n",
    "\n",
    "model_regType11_regParam100 = LinearRegressionWithSGD.train(trainData, 10, 0.1, regParam=100.0, regType=\"l1\", intercept=False)\n",
    "\n",
    "print (\"number of zero weights regularization: \" + str(sum(model_regType11.weights.array == 0)))\n",
    "\n",
    "print (\"number of zeros weights regularization (10): \" + str(sum(model_regType11_regParam10.weights.array == 0)))\n",
    "\n",
    "print (\"number of zeros weights regularization (100): \" +str(sum(model_regType11_regParam100.weights.array == 0)))"
   ]
  },
  {
   "cell_type": "markdown",
   "metadata": {},
   "source": [
    "# Intercept"
   ]
  },
  {
   "cell_type": "code",
   "execution_count": 63,
   "metadata": {},
   "outputs": [
    {
     "data": {
      "image/png": "[encoded data removed]",
      "text/plain": [
       "<Figure size 432x288 with 1 Axes>"
      ]
     },
     "metadata": {
      "needs_background": "light"
     },
     "output_type": "display_data"
    }
   ],
   "source": [
    "\n",
    "params = [False, True]\n",
    "\n",
    "metrics = [evaluate(trainData, testData, 10, 0.1, 1.0, \"l2\", param) for param in params]\n",
    "\n",
    "bar(params, metrics, color=\"lightblue\")\n",
    "\n",
    "matplotlib.pyplot.title('Metrics without and with an intercept')\n",
    "\n",
    "fig = matplotlib.pyplot.gcf()\n"
   ]
  },
  {
   "cell_type": "markdown",
   "metadata": {},
   "source": [
    "# impact of parameter on Decision Tree"
   ]
  },
  {
   "cell_type": "code",
   "execution_count": 72,
   "metadata": {},
   "outputs": [],
   "source": [
    "\n",
    "def evaluateDT(train, test, maxDepth, maxBins):\n",
    "    modelDT = DecisionTree.trainRegressor(\n",
    "        train, {}, impurity=\"variance\", \n",
    "        maxDepth=maxDepth, \n",
    "        maxBins=maxBins\n",
    "    )\n",
    "    prediction = modelDT.predict(test.map(lambda p: p.features))\n",
    "    actual = test.map(lambda p: p.label)\n",
    "    testPrediction = actual.zip(prediction)\n",
    "    root_mean_squarede_error = np.sqrt(testPrediction.map(lambda args: errorSquaredLog(args[0], args[1])).mean())\n",
    "    return root_mean_squarede_error"
   ]
  },
  {
   "cell_type": "markdown",
   "metadata": {},
   "source": [
    "# Tree Depth"
   ]
  },
  {
   "cell_type": "code",
   "execution_count": 73,
   "metadata": {},
   "outputs": [
    {
     "data": {
      "image/png": "[encoded data removed]",
      "text/plain": [
       "<Figure size 432x288 with 1 Axes>"
      ]
     },
     "metadata": {
      "needs_background": "light"
     },
     "output_type": "display_data"
    }
   ],
   "source": [
    "\n",
    "params = [1, 2, 3, 4, 5, 10, 20]\n",
    "\n",
    "metrics = [evaluateDT(trainDataDT, testDataDT, param, 32) for param in params]\n",
    "\n",
    "plot(params, metrics)\n",
    "\n",
    "matplotlib.pyplot.title('Metrics for different tree depths')\n",
    "\n",
    "fig = matplotlib.pyplot.gcf()\n"
   ]
  },
  {
   "cell_type": "markdown",
   "metadata": {},
   "source": [
    "# Maximum bins"
   ]
  },
  {
   "cell_type": "code",
   "execution_count": 75,
   "metadata": {},
   "outputs": [
    {
     "data": {
      "image/png": "[encoded data removed]",
      "text/plain": [
       "<Figure size 432x288 with 1 Axes>"
      ]
     },
     "metadata": {
      "needs_background": "light"
     },
     "output_type": "display_data"
    }
   ],
   "source": [
    "\n",
    "params = [2, 4, 8, 16, 32, 64, 100]\n",
    "\n",
    "metrics = [evaluateDT(trainDataDT, testDataDT, 5, param) for param in params]\n",
    "\n",
    "plot(params, metrics)\n",
    "\n",
    "matplotlib.pyplot.title('Metrics for different maximum bins')\n",
    "\n",
    "fig = matplotlib.pyplot.gcf()\n"
   ]
  },
  {
   "cell_type": "code",
   "execution_count": null,
   "metadata": {},
   "outputs": [],
   "source": []
  }
 ],
 "metadata": {
  "kernelspec": {
   "display_name": "Python 3",
   "language": "python",
   "name": "python3"
  },
  "language_info": {
   "codemirror_mode": {
    "name": "ipython",
    "version": 3
   },
   "file_extension": ".py",
   "mimetype": "text/x-python",
   "name": "python",
   "nbconvert_exporter": "python",
   "pygments_lexer": "ipython3",
   "version": "3.6.5"
  }
 },
 "nbformat": 4,
 "nbformat_minor": 2
}

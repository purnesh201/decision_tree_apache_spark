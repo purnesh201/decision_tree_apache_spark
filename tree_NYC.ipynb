{
 "cells": [
  {
   "cell_type": "markdown",
   "metadata": {},
   "source": [
    "# imports"
   ]
  },
  {
   "cell_type": "code",
   "execution_count": 2,
   "metadata": {},
   "outputs": [],
   "source": [
    "import findspark\n",
    "findspark.init('D:\\spark\\spark-2.3.2-bin-hadoop2.7')\n",
    "\n",
    "from pyspark.sql import *\n",
    "from pyspark import SparkContext\n",
    "from pyspark.mllib.regression import LabeledPoint\n",
    "import numpy as np\n",
    "from pyspark.mllib.regression import LinearRegressionWithSGD\n",
    "from pyspark.mllib.tree import DecisionTree, DecisionTreeModel\n",
    "from pyspark.ml.classification import GBTClassifier\n",
    "from pyspark.mllib.tree import GradientBoostedTrees\n",
    "\n"
   ]
  },
  {
   "cell_type": "markdown",
   "metadata": {},
   "source": [
    "# spark Session"
   ]
  },
  {
   "cell_type": "code",
   "execution_count": 3,
   "metadata": {},
   "outputs": [
    {
     "name": "stdout",
     "output_type": "stream",
     "text": [
      "+-----+\n",
      "|hello|\n",
      "+-----+\n",
      "|spark|\n",
      "+-----+\n",
      "\n"
     ]
    }
   ],
   "source": [
    "spark = SparkSession.builder.getOrCreate()\n",
    "\n",
    "df = spark.sql('''select 'spark' as hello ''')\n",
    "df.show()"
   ]
  },
  {
   "cell_type": "markdown",
   "metadata": {},
   "source": [
    "# spark context for files"
   ]
  },
  {
   "cell_type": "code",
   "execution_count": 4,
   "metadata": {},
   "outputs": [
    {
     "data": {
      "text/html": [
       "\n",
       "        <div>\n",
       "            <p><b>SparkContext</b></p>\n",
       "\n",
       "            <p><a href=\"http://LAPTOP-D7NKT8GH:4041\">Spark UI</a></p>\n",
       "\n",
       "            <dl>\n",
       "              <dt>Version</dt>\n",
       "                <dd><code>v2.3.2</code></dd>\n",
       "              <dt>Master</dt>\n",
       "                <dd><code>local[*]</code></dd>\n",
       "              <dt>AppName</dt>\n",
       "                <dd><code>pyspark-shell</code></dd>\n",
       "            </dl>\n",
       "        </div>\n",
       "        "
      ],
      "text/plain": [
       "<SparkContext master=local[*] appName=pyspark-shell>"
      ]
     },
     "execution_count": 4,
     "metadata": {},
     "output_type": "execute_result"
    }
   ],
   "source": [
    "sc = SparkContext.getOrCreate()\n",
    "sc"
   ]
  },
  {
   "cell_type": "markdown",
   "metadata": {},
   "source": [
    "# Reading csv files"
   ]
  },
  {
   "cell_type": "code",
   "execution_count": 5,
   "metadata": {},
   "outputs": [],
   "source": [
    "nycData = sc.textFile(\"nyc_rolling.csv\")"
   ]
  },
  {
   "cell_type": "code",
   "execution_count": 8,
   "metadata": {},
   "outputs": [
    {
     "data": {
      "text/plain": [
       "['3494', '63', '1', '2728', '1935', '1', '20000']"
      ]
     },
     "execution_count": 8,
     "metadata": {},
     "output_type": "execute_result"
    }
   ],
   "source": [
    "data = nycData.map(lambda line: line.split(\",\"))\n",
    "data\n",
    "line_1 = data.first()\n",
    "line_1"
   ]
  },
  {
   "cell_type": "code",
   "execution_count": 9,
   "metadata": {},
   "outputs": [],
   "source": [
    "def mapping(col, iD):\n",
    "    return col.map(lambda line: line[iD]).distinct().zipWithIndex().collectAsMap()"
   ]
  },
  {
   "cell_type": "code",
   "execution_count": 10,
   "metadata": {
    "scrolled": false
   },
   "outputs": [
    {
     "name": "stdout",
     "output_type": "stream",
     "text": [
      "Mapping of first categorical feasture column: {'1': 0, '4': 1, '8': 2, '9': 3, '10': 4, '12': 5, '14': 6, '16': 7, '17': 8, '19': 9, '20': 10, '21': 11, '22': 12, '24': 13, '26': 14, '29': 15, '33': 16, '34': 17, '40': 18, '44': 19, '45': 20, '48': 21, '50': 22, '53': 23, '54': 24, '56': 25, '57': 26, '60': 27, '63': 28, '64': 29, '66': 30, '68': 31, '69': 32, '70': 33, '74': 34, '83': 35, '84': 36, '86': 37, '91': 38, '93': 39, '96': 40, '100': 41, '102': 42, '106': 43, '111': 44, '121': 45, '122': 46, '128': 47, '143': 48, '146': 49, '150': 50, '179': 51, '185': 52, '192': 53, '222': 54, '256': 55, '257': 56, '286': 57, '446': 58, '771': 59, '1866': 60, '2': 61, '3': 62, '5': 63, '6': 64, '7': 65, '11': 66, '13': 67, '15': 68, '18': 69, '23': 70, '25': 71, '27': 72, '28': 73, '30': 74, '31': 75, '32': 76, '35': 77, '36': 78, '37': 79, '38': 80, '39': 81, '41': 82, '42': 83, '43': 84, '46': 85, '47': 86, '49': 87, '51': 88, '52': 89, '55': 90, '58': 91, '59': 92, '61': 93, '62': 94, '65': 95, '67': 96, '71': 97, '72': 98, '75': 99, '76': 100, '78': 101, '79': 102, '81': 103, '89': 104, '90': 105, '94': 106, '95': 107, '99': 108, '103': 109, '117': 110, '120': 111, '126': 112, '129': 113, '135': 114, '136': 115, '142': 116, '152': 117, '159': 118, '172': 119, '193': 120, '238': 121, '291': 122, '295': 123, '324': 124, '395': 125, '436': 126, '462': 127, '2261': 128}\n"
     ]
    }
   ],
   "source": [
    "print (\"Mapping of first categorical feasture column: %s\" % (mapping(data, 2)))"
   ]
  },
  {
   "cell_type": "code",
   "execution_count": 12,
   "metadata": {},
   "outputs": [],
   "source": [
    "# mappingsData = [mapping(data, x) for x in range(2,10)]\n",
    "# vetLen = sum(map(len, mappingsData))\n",
    "# numLen = len(data.first()[11:15])\n",
    "# total = numLen + vetLen"
   ]
  },
  {
   "cell_type": "code",
   "execution_count": 13,
   "metadata": {},
   "outputs": [],
   "source": [
    "# print (\"Feature vector length for categorical features: %d \" % vetLen)\n",
    "# print (\"Feature vector length for numerical features: %d \" % numLen)\n",
    "# print (\"Total feature vector length: %d \" % total)"
   ]
  },
  {
   "cell_type": "code",
   "execution_count": 16,
   "metadata": {},
   "outputs": [
    {
     "data": {
      "text/plain": [
       "array([3494,   63,    1, 2728, 1935,    1])"
      ]
     },
     "execution_count": 16,
     "metadata": {},
     "output_type": "execute_result"
    }
   ],
   "source": [
    "def features(data):\n",
    "    return np.array(list(map(int, data[0:6])))\n",
    "\n",
    "def label(data):\n",
    "    return int(data[-1])\n",
    "\n",
    "features(data.first())"
   ]
  },
  {
   "cell_type": "code",
   "execution_count": 17,
   "metadata": {},
   "outputs": [
    {
     "data": {
      "text/plain": [
       "PythonRDD[54] at RDD at PythonRDD.scala:52"
      ]
     },
     "execution_count": 17,
     "metadata": {},
     "output_type": "execute_result"
    }
   ],
   "source": [
    "dataNew = data.map(lambda row: LabeledPoint(label(row), features(row)))\n",
    "dataNew"
   ]
  },
  {
   "cell_type": "code",
   "execution_count": 18,
   "metadata": {},
   "outputs": [
    {
     "data": {
      "text/plain": [
       "LabeledPoint(20000.0, [3494.0,63.0,1.0,2728.0,1935.0,1.0])"
      ]
     },
     "execution_count": 18,
     "metadata": {},
     "output_type": "execute_result"
    }
   ],
   "source": [
    "newLine_1 = dataNew.first()\n",
    "newLine_1"
   ]
  },
  {
   "cell_type": "code",
   "execution_count": 19,
   "metadata": {},
   "outputs": [
    {
     "name": "stdout",
     "output_type": "stream",
     "text": [
      "Raw Data['1', '2728', '1935', '1', '20000']\n",
      "Label:20000.0\n",
      "Linear Model feature vector:\n",
      "[3494.0,63.0,1.0,2728.0,1935.0,1.0]\n",
      "Linear Model feature vector length: 6\n"
     ]
    }
   ],
   "source": [
    "print (\"Raw Data\" + str(line_1[2:]))\n",
    "\n",
    "print (\"Label:\" + str(newLine_1.label))\n",
    "\n",
    "print (\"Linear Model feature vector:\\n\" + str(newLine_1.features))\n",
    "\n",
    "print (\"Linear Model feature vector length: \" + str(len(newLine_1.features)))"
   ]
  },
  {
   "cell_type": "markdown",
   "metadata": {},
   "source": [
    "# Decision Tree. "
   ]
  },
  {
   "cell_type": "code",
   "execution_count": 20,
   "metadata": {},
   "outputs": [
    {
     "name": "stdout",
     "output_type": "stream",
     "text": [
      "Decision Tree feature vector: [1.0,2728.0,1935.0,1.0,20000.0]\n",
      "Decision Tree feature vector length:5\n"
     ]
    }
   ],
   "source": [
    "def featuresDT(data):\n",
    "    return np.array(list(map(int, data[2:14])))\n",
    "\n",
    "\n",
    "dataNewDT = data.map(lambda row: LabeledPoint(label(row), featuresDT(row)))\n",
    "\n",
    "dataNewDT.count()\n",
    "\n",
    "point_1_dt = dataNewDT.first()\n",
    "\n",
    "print (\"Decision Tree feature vector: \"  + str(point_1_dt.features))\n",
    "\n",
    "print (\"Decision Tree feature vector length:\" + str(len(point_1_dt.features)))"
   ]
  },
  {
   "cell_type": "code",
   "execution_count": 21,
   "metadata": {},
   "outputs": [
    {
     "data": {
      "text/plain": [
       "{'func': <function pyspark.rdd.PipelinedRDD.__init__.<locals>.pipeline_func(split, iterator)>,\n",
       " 'preservesPartitioning': False,\n",
       " '_prev_jrdd': JavaObject id=o29,\n",
       " '_prev_jrdd_deserializer': UTF8Deserializer(True),\n",
       " 'is_cached': False,\n",
       " 'is_checkpointed': False,\n",
       " 'ctx': <SparkContext master=local[*] appName=pyspark-shell>,\n",
       " 'prev': PythonRDD[58] at RDD at PythonRDD.scala:52,\n",
       " '_jrdd_val': None,\n",
       " '_id': None,\n",
       " '_jrdd_deserializer': AutoBatchedSerializer(PickleSerializer()),\n",
       " '_bypass_serializer': False,\n",
       " 'partitioner': None}"
      ]
     },
     "execution_count": 21,
     "metadata": {},
     "output_type": "execute_result"
    }
   ],
   "source": [
    "dataNewDT.__dict__\n"
   ]
  },
  {
   "cell_type": "code",
   "execution_count": 22,
   "metadata": {},
   "outputs": [
    {
     "data": {
      "text/plain": [
       "(weights=[-9.177456782139565e+76,-1.3644443793895992e+75,-2.724482662281096e+75,-4.998964712600687e+78,-4.4840575682340654e+76,-4.863417541264137e+73], intercept=0.0)"
      ]
     },
     "execution_count": 22,
     "metadata": {},
     "output_type": "execute_result"
    }
   ],
   "source": [
    "linearModel = LinearRegressionWithSGD.train(dataNew, iterations=10, step=0.1, intercept=False)\n",
    "linearModel"
   ]
  },
  {
   "cell_type": "code",
   "execution_count": 23,
   "metadata": {},
   "outputs": [
    {
     "name": "stdout",
     "output_type": "stream",
     "text": [
      "predictions of Tree: [(20000.0, -1.4044691323000699e+82), (20000.0, -9.482533924928922e+81), (21644.0, -9.545428848858508e+81), (24000.0, -8.912137570958977e+81), (25000.0, -1.8873246308280278e+82)]\n"
     ]
    }
   ],
   "source": [
    "predictedVStrue = dataNew.map(lambda line: (line.label, linearModel.predict(line.features)))\n",
    "predictedVStrue\n",
    "print (\"predictions of Tree: \" + str(predictedVStrue.take(5)))"
   ]
  },
  {
   "cell_type": "markdown",
   "metadata": {},
   "source": [
    "# Tree predictions"
   ]
  },
  {
   "cell_type": "code",
   "execution_count": 24,
   "metadata": {},
   "outputs": [
    {
     "name": "stdout",
     "output_type": "stream",
     "text": [
      "predictions of Tree: [(20000.0, 251002.99656946826), (20000.0, 251002.99656946826), (21644.0, 251002.99656946826), (24000.0, 251002.99656946826), (25000.0, 251002.99656946826)]\n",
      "depth of Tree: 5\n",
      "number of nodes for Tree: 63\n"
     ]
    }
   ],
   "source": [
    "modelDT = DecisionTree.trainRegressor(dataNewDT,{})\n",
    "\n",
    "predictionModel = modelDT.predict(dataNewDT.map(lambda x: x.features))\n",
    "\n",
    "actualModel = dataNew.map(lambda x: x.label)\n",
    "\n",
    "predictedVStrueDT = actualModel.zip(predictionModel)\n",
    "\n",
    "print (\"predictions of Tree: \" + str(predictedVStrueDT.take(5)))\n",
    "\n",
    "print (\"depth of Tree: \" + str(modelDT.depth()))\n",
    "\n",
    "print (\"number of nodes for Tree: \" + str(modelDT.numNodes()))"
   ]
  },
  {
   "cell_type": "markdown",
   "metadata": {},
   "source": [
    "# Error Functions"
   ]
  },
  {
   "cell_type": "code",
   "execution_count": 25,
   "metadata": {},
   "outputs": [],
   "source": [
    "def errorSquared(actualModel, predictionModel):\n",
    "    return (predictionModel - actualModel)**2\n",
    "\n",
    "def errorABS(actualModel, predictionModel):\n",
    "    return np.abs(predictionModel - actualModel)\n",
    "\n",
    "def errorSquaredLog(predictionModel, actualModel):\n",
    "    return (np.log(np.abs(predictionModel) + 1) - np.log(np.abs(actualModel) + 1))**2"
   ]
  },
  {
   "cell_type": "markdown",
   "metadata": {},
   "source": [
    "# Linear Model"
   ]
  },
  {
   "cell_type": "code",
   "execution_count": 26,
   "metadata": {},
   "outputs": [
    {
     "name": "stderr",
     "output_type": "stream",
     "text": [
      "D:\\spark\\spark-2.3.2-bin-hadoop2.7\\python\\pyspark\\statcounter.py:83: RuntimeWarning: overflow encountered in double_scalars\n",
      "  self.m2 += other.m2 + (delta * delta * self.n * other.n) / (self.n + other.n)\n"
     ]
    },
    {
     "name": "stdout",
     "output_type": "stream",
     "text": [
      "Mean Squared Error: 28584652295379798678444809467376612060417590830238296832127799607337032430294065382499626490189597576348340525750340774738720872996660347388232361906629404386282962944.0000\n",
      "Mean Absolute Error: 26349607827254119071786073563359205782375198414473034429231696920185063705289949184.0000\n",
      "Root Mean Squared Log Error: 175.5452\n"
     ]
    }
   ],
   "source": [
    "mean_squared_error = predictedVStrue.map(lambda args: errorSquared(args[0], args[1])).mean()\n",
    "\n",
    "mean_absolute_error = predictedVStrue.map(lambda args: errorABS(args[0], args[1])).mean()\n",
    "\n",
    "root_mean_squared_log_error = np.sqrt(predictedVStrue.map(lambda args: errorSquaredLog(args[0], args[1])).mean())\n",
    "\n",
    "print (\"Mean Squared Error: %2.4f\" % mean_squared_error)\n",
    "\n",
    "print (\"Mean Absolute Error: %2.4f\" % mean_absolute_error)\n",
    "\n",
    "print (\"Root Mean Squared Log Error: %2.4f\" % root_mean_squared_log_error)"
   ]
  },
  {
   "cell_type": "markdown",
   "metadata": {},
   "source": [
    "# Decision Tree"
   ]
  },
  {
   "cell_type": "code",
   "execution_count": 27,
   "metadata": {},
   "outputs": [
    {
     "name": "stdout",
     "output_type": "stream",
     "text": [
      "Mean Squared Error: 1849307583095.3281\n",
      "Mean Absolute Error: 272321.2535\n",
      "Root Mean Squared Log Error: 0.2731\n"
     ]
    }
   ],
   "source": [
    "mean_squared_error_dt = predictedVStrueDT.map(lambda args: errorSquared(args[0], args[1])).mean()\n",
    "\n",
    "mean_absolute_error_dt = predictedVStrueDT.map(lambda args: errorABS(args[0], args[1])).mean()\n",
    "\n",
    "root_mean_squared_log_error_dt = np.sqrt(predictedVStrueDT.map(lambda args: errorSquaredLog(args[0], args[1])).mean())\n",
    "\n",
    "print (\"Mean Squared Error: %2.4f\" % mean_squared_error_dt)\n",
    "\n",
    "print (\"Mean Absolute Error: %2.4f\" % mean_absolute_error_dt)\n",
    "\n",
    "print (\"Root Mean Squared Log Error: %2.4f\" % root_mean_squared_log_error_dt)\n",
    "\n"
   ]
  },
  {
   "cell_type": "markdown",
   "metadata": {},
   "source": [
    "# matplotlib"
   ]
  },
  {
   "cell_type": "code",
   "execution_count": 28,
   "metadata": {},
   "outputs": [
    {
     "name": "stdout",
     "output_type": "stream",
     "text": [
      "Populating the interactive namespace from numpy and matplotlib\n"
     ]
    }
   ],
   "source": [
    "%pylab inline"
   ]
  },
  {
   "cell_type": "code",
   "execution_count": 29,
   "metadata": {},
   "outputs": [
    {
     "data": {
      "image/png": "[encoded data removed]",
      "text/plain": [
       "<Figure size 1008x720 with 1 Axes>"
      ]
     },
     "metadata": {
      "needs_background": "light"
     },
     "output_type": "display_data"
    }
   ],
   "source": [
    "targets = data.map(lambda row: float(row[-1])).collect()\n",
    "\n",
    "hist(targets, bins=40, color=\"lightblue\", density=True)\n",
    "\n",
    "fig = matplotlib.pyplot.gcf()\n",
    "matplotlib.pyplot.title('Distribution of raw target variable values')\n",
    "\n",
    "fig.set_size_inches(14, 10)"
   ]
  },
  {
   "cell_type": "code",
   "execution_count": 30,
   "metadata": {},
   "outputs": [
    {
     "data": {
      "image/png": "[encoded data removed]",
      "text/plain": [
       "<Figure size 1008x720 with 1 Axes>"
      ]
     },
     "metadata": {
      "needs_background": "light"
     },
     "output_type": "display_data"
    }
   ],
   "source": [
    "\n",
    "targetsLog = data.map(lambda row: np.log(float(row[-1]))).collect()\n",
    "\n",
    "hist(targetsLog, bins=40, color=\"lightblue\", density=True)\n",
    "matplotlib.pyplot.title('Distribution of log-transformed target variable values')\n",
    "\n",
    "fig = matplotlib.pyplot.gcf()\n",
    "\n",
    "fig.set_size_inches(14, 10)"
   ]
  },
  {
   "cell_type": "code",
   "execution_count": 31,
   "metadata": {},
   "outputs": [
    {
     "data": {
      "image/png": "[encoded data removed]",
      "text/plain": [
       "<Figure size 1008x720 with 1 Axes>"
      ]
     },
     "metadata": {
      "needs_background": "light"
     },
     "output_type": "display_data"
    }
   ],
   "source": [
    "\n",
    "targetsSquare = data.map(lambda row: np.sqrt(float(row[-1]))).collect()\n",
    "\n",
    "hist(targetsSquare, bins=40, color=\"lightblue\", density=True)\n",
    "\n",
    "matplotlib.pyplot.title('Distribution of square-root-transformed target variable values')\n",
    "\n",
    "fig = matplotlib.pyplot.gcf()\n",
    "\n",
    "fig.set_size_inches(14, 10)"
   ]
  },
  {
   "cell_type": "markdown",
   "metadata": {},
   "source": [
    "# Log Transformed Targets"
   ]
  },
  {
   "cell_type": "code",
   "execution_count": 32,
   "metadata": {},
   "outputs": [],
   "source": [
    "dataNewLog = dataNew.map(lambda lp: LabeledPoint(np.log(lp.label), lp.features))\n",
    "\n",
    "modelNewlog = LinearRegressionWithSGD.train(dataNewLog, iterations=10, step=0.1)\n",
    "\n",
    "predictedVStrueLog = dataNewLog.map(lambda p: (np.exp(p.label), np.exp(modelNewlog.predict(p.features))))"
   ]
  },
  {
   "cell_type": "code",
   "execution_count": 33,
   "metadata": {},
   "outputs": [
    {
     "name": "stdout",
     "output_type": "stream",
     "text": [
      "Mean Squared Error For Log Transform: 13169474532844.7285\n",
      "Mean Absolue Error For Log Transform: 1532652.8897\n",
      "Root Mean Squared Log Error For Log Transform: 13.6695\n",
      "Non log-transformed predictions For Log Transform:\n",
      " [(20000.0, -1.4044691323000699e+82), (20000.0, -9.482533924928922e+81), (21644.0, -9.545428848858508e+81)]\n",
      "Log-transformed predictions For Log Transform:\n",
      "[(19999.99999999998, 0.0), (19999.99999999998, 0.0), (21643.999999999996, 0.0)]\n"
     ]
    }
   ],
   "source": [
    "mean_squared_error_log = predictedVStrueLog.map(lambda args: errorSquared(args[0], args[1])).mean()\n",
    "\n",
    "mean_absolue_error_log = predictedVStrueLog.map(lambda args: errorABS(args[0], args[1])).mean()\n",
    "\n",
    "root_mean_squared_error_log = np.sqrt(predictedVStrueLog.map(lambda args: errorSquaredLog(args[0], args[1])).mean())\n",
    "\n",
    "\n",
    "print (\"Mean Squared Error For Log Transform: %2.4f\" % mean_squared_error_log)\n",
    "\n",
    "print (\"Mean Absolue Error For Log Transform: %2.4f\" % mean_absolue_error_log)\n",
    "\n",
    "print (\"Root Mean Squared Log Error For Log Transform: %2.4f\" % root_mean_squared_error_log)\n",
    "\n",
    "print (\"Non log-transformed predictions For Log Transform:\\n \" + str(predictedVStrue.take(3)))\n",
    "\n",
    "print (\"Log-transformed predictions For Log Transform:\\n\" + str(predictedVStrueLog.take(3)))"
   ]
  },
  {
   "cell_type": "markdown",
   "metadata": {},
   "source": [
    "# log analysis for Decision tree"
   ]
  },
  {
   "cell_type": "code",
   "execution_count": 34,
   "metadata": {},
   "outputs": [],
   "source": [
    "\n",
    "dataLogDT = dataNewDT.map(lambda lp: LabeledPoint(np.log(lp.label), lp.features))\n",
    "\n",
    "dataLogDT\n",
    "\n",
    "dtModelLog = DecisionTree.trainRegressor(dataLogDT,{})\n",
    "\n",
    "predictionLog = dtModelLog.predict(dataLogDT.map(lambda p: p.features))\n",
    "\n",
    "actualLog = dataLogDT.map(lambda p: p.label)\n",
    "\n",
    "predictedVStrueDTLog = actualLog.zip(predictionLog).map(lambda args: (np.exp(args[0]), np.exp(args[1])))"
   ]
  },
  {
   "cell_type": "code",
   "execution_count": 35,
   "metadata": {},
   "outputs": [
    {
     "name": "stdout",
     "output_type": "stream",
     "text": [
      "Mean Squared Error For log analysis: 2295921992202.9414\n",
      "Mean Absolue Error For log analysis: 250876.0596\n",
      "Root Mean Squared Log Error For log analysis: 0.1506\n",
      "Non log-transformed predictions For log analysis:\n",
      "[(20000.0, 251002.99656946826), (20000.0, 251002.99656946826), (21644.0, 251002.99656946826)]\n",
      "Log-transformed predictions For log analysis:\n",
      " [(19999.99999999998, 109555.94465953598), (19999.99999999998, 109555.94465953598), (21643.999999999996, 109555.94465953598)]\n"
     ]
    }
   ],
   "source": [
    "mean_squared_error_log_dt = predictedVStrueDTLog.map(lambda args: errorSquared(args[0], args[1])).mean()\n",
    "\n",
    "mean_absolue_error_log_dt = predictedVStrueDTLog.map(lambda args: errorABS(args[0], args[1])).mean()\n",
    "\n",
    "root_mean_squared_error_log_dt = np.sqrt(predictedVStrueDTLog.map(lambda args: errorSquaredLog(args[0], args[1])).mean())\n",
    "\n",
    "print (\"Mean Squared Error For log analysis: %2.4f\" % mean_squared_error_log_dt)\n",
    "\n",
    "print (\"Mean Absolue Error For log analysis: %2.4f\" % mean_absolue_error_log_dt)\n",
    "\n",
    "print (\"Root Mean Squared Log Error For log analysis: %2.4f\" % root_mean_squared_error_log_dt)\n",
    "\n",
    "print (\"Non log-transformed predictions For log analysis:\\n\" + str(predictedVStrueDT.take(3)))\n",
    "\n",
    "print (\"Log-transformed predictions For log analysis:\\n \" + str(predictedVStrueDTLog.take(3)))"
   ]
  },
  {
   "cell_type": "markdown",
   "metadata": {},
   "source": [
    "# Gradient Boosted Tree"
   ]
  },
  {
   "cell_type": "code",
   "execution_count": 36,
   "metadata": {},
   "outputs": [
    {
     "name": "stdout",
     "output_type": "stream",
     "text": [
      "Training data size: 15201\n",
      "Test data size: 3849\n",
      "Total data size: 19050 \n"
     ]
    }
   ],
   "source": [
    "dataIDx = dataNew.zipWithIndex().map(lambda args: (args[1], args[0]))\n",
    "\n",
    "test = dataIDx.sample(False, 0.2, 42)\n",
    "\n",
    "train = dataIDx.subtractByKey(test)\n",
    "\n",
    "trainData = train.map(lambda args: args[1])\n",
    "\n",
    "testData = test.map(lambda args: args[1])\n",
    "\n",
    "trainSize = trainData.count()\n",
    "testSize = testData.count()\n",
    "\n",
    "print (\"Training data size: %d\" % trainSize)\n",
    "\n",
    "print (\"Test data size: %d\" % testSize)\n",
    "\n",
    "print (\"Total data size: %d \" % (trainSize + testSize))"
   ]
  },
  {
   "cell_type": "markdown",
   "metadata": {},
   "source": [
    "# Data Split into training and testing"
   ]
  },
  {
   "cell_type": "code",
   "execution_count": 37,
   "metadata": {},
   "outputs": [],
   "source": [
    "dataIDxDT = dataNewDT.zipWithIndex().map(lambda args: (args[1], args[0]))\n",
    "\n",
    "testDT = dataIDxDT.sample(False, 0.2, 42)\n",
    "\n",
    "trainDT = dataIDxDT.subtractByKey(testDT)\n",
    "\n",
    "trainDataDT = trainDT.map(lambda args: args[1])\n",
    "\n",
    "testDataDT = testDT.map(lambda args: args[1])\n"
   ]
  },
  {
   "cell_type": "code",
   "execution_count": 38,
   "metadata": {},
   "outputs": [
    {
     "data": {
      "text/plain": [
       "TreeEnsembleModel regressor with 3 trees"
      ]
     },
     "execution_count": 38,
     "metadata": {},
     "output_type": "execute_result"
    }
   ],
   "source": [
    "gradientBoostedTreeModel = GradientBoostedTrees.trainRegressor(dataNewDT,categoricalFeaturesInfo={}, numIterations=3)\n",
    "gradientBoostedTreeModel"
   ]
  },
  {
   "cell_type": "code",
   "execution_count": 39,
   "metadata": {},
   "outputs": [
    {
     "name": "stdout",
     "output_type": "stream",
     "text": [
      "predictions for Gradient Boosted Tree: [(20000.0, 431851.5723081607), (20000.0, 431851.5723081607), (21644.0, 431851.5723081607), (24000.0, 431851.5723081607), (25000.0, 431851.5723081607)]\n",
      "Tree depth for Gradient Boosted Tree: 3\n",
      "number of nodes for Gradient Boosted Tree: 45\n",
      "Mean Squared Error - Gradient Boosted Tree: 2250855625686.1353\n",
      "Mean Absolute Error - Gradient Boosted Tree: 377869.2208\n",
      "Root Mean Squared Log Error - Gradient Boosted Tree: 0.4084\n"
     ]
    }
   ],
   "source": [
    "predictionsGradient = gradientBoostedTreeModel.predict(dataNewDT.map(lambda p: p.features))\n",
    "\n",
    "actualGradient = dataNew.map(lambda p: p.label)\n",
    "\n",
    "predictedVStrueGradient = actualGradient.zip(predictionsGradient)\n",
    "\n",
    "print (\"predictions for Gradient Boosted Tree: \" + str(predictedVStrueGradient.take(5)))\n",
    "\n",
    "print (\"Tree depth for Gradient Boosted Tree: \" + str(gradientBoostedTreeModel.numTrees()))\n",
    "\n",
    "print (\"number of nodes for Gradient Boosted Tree: \" + str(gradientBoostedTreeModel.totalNumNodes()))\n",
    "\n",
    "## Error rates for Gradient Boosted Trees\n",
    "\n",
    "mean_squared_error_gradient_dt = predictedVStrueGradient.map(lambda args: errorSquared(args[0], args[1])).mean()\n",
    "\n",
    "mean_absolute_error_gradient_dt = predictedVStrueGradient.map(lambda args: errorABS(args[0], args[1])).mean()\n",
    "\n",
    "root_mean_squarede_error_gradient_dt = np.sqrt(predictedVStrueGradient.map(lambda args: errorSquaredLog(args[0], args[1])).mean())\n",
    "\n",
    "print (\"Mean Squared Error - Gradient Boosted Tree: %2.4f\" % mean_squared_error_gradient_dt)\n",
    "\n",
    "print (\"Mean Absolute Error - Gradient Boosted Tree: %2.4f\" % mean_absolute_error_gradient_dt)\n",
    "\n",
    "print (\"Root Mean Squared Log Error - Gradient Boosted Tree: %2.4f\" % root_mean_squarede_error_gradient_dt)"
   ]
  },
  {
   "cell_type": "markdown",
   "metadata": {},
   "source": [
    "# Gradient boost tree iterations"
   ]
  },
  {
   "cell_type": "code",
   "execution_count": 40,
   "metadata": {},
   "outputs": [],
   "source": [
    "# Gradient boost tree iterations \n",
    "\n",
    "def gradientEvaluate(train, test, maxDepth, maxBins):\n",
    "    gradientModel = GradientBoostedTrees.trainRegressor(\n",
    "        train, categoricalFeaturesInfo={},\n",
    "        numIterations=2,\n",
    "        maxDepth=maxDepth, maxBins=maxBins\n",
    "    )\n",
    "    predictionGradient = gradientModel.predict(test.map(lambda p: p.features))\n",
    "    actualGradient = test.map(lambda p: p.label)\n",
    "    testPrediction = actualGradient.zip(predictionGradient)\n",
    "    root_mean_squarede_error = np.sqrt(testPrediction.map(lambda args: errorSquaredLog(args[0], args[1])).mean())\n",
    "    return root_mean_squarede_error"
   ]
  },
  {
   "cell_type": "markdown",
   "metadata": {},
   "source": [
    "# Gradient Boosted Tree Depth"
   ]
  },
  {
   "cell_type": "code",
   "execution_count": 41,
   "metadata": {},
   "outputs": [
    {
     "data": {
      "image/png": "[encoded data removed]",
      "text/plain": [
       "<Figure size 432x288 with 1 Axes>"
      ]
     },
     "metadata": {
      "needs_background": "light"
     },
     "output_type": "display_data"
    }
   ],
   "source": [
    "matplotlib.pyplot.title('Metrics for different tree depths')\n",
    "params = [0, 4, 8, 12, 16, 20]\n",
    "\n",
    "metrics = [gradientEvaluate(trainDataDT, testDataDT, param, 32) for param in params]\n",
    "\n",
    "plot(params, metrics)\n",
    "\n",
    "fig = matplotlib.pyplot.gcf()"
   ]
  },
  {
   "cell_type": "markdown",
   "metadata": {},
   "source": [
    "# Gradient Boosted Tree Maximum bins"
   ]
  },
  {
   "cell_type": "code",
   "execution_count": 42,
   "metadata": {},
   "outputs": [
    {
     "data": {
      "image/png": "[encoded data removed]",
      "text/plain": [
       "<Figure size 432x288 with 1 Axes>"
      ]
     },
     "metadata": {
      "needs_background": "light"
     },
     "output_type": "display_data"
    }
   ],
   "source": [
    "params = [2, 4, 6, 8, 16, 30, 45, 60, 75, 90, 105]\n",
    "\n",
    "metrics = [gradientEvaluate(trainDataDT, testDataDT, 5, param) for param in params]\n",
    "\n",
    "plot(params, metrics)\n",
    "\n",
    "matplotlib.pyplot.title('Metrics for different maximum bins')\n",
    "\n",
    "fig = matplotlib.pyplot.gcf()\n"
   ]
  },
  {
   "cell_type": "markdown",
   "metadata": {},
   "source": [
    "# Linear Models"
   ]
  },
  {
   "cell_type": "code",
   "execution_count": 43,
   "metadata": {},
   "outputs": [],
   "source": [
    "def evaluate(train, test, iterations, step, regParam, regType, intercept):\n",
    "    linearModel = LinearRegressionWithSGD.train(\n",
    "        train, iterations, step, regParam=regParam, \n",
    "        regType=regType, intercept=intercept\n",
    "    )\n",
    "    predictionLinear = linearModel.predict(test.map(lambda p: p.features))\n",
    "    actualLinear = test.map(lambda p: p.label)\n",
    "    testPrediction = actualLinear.zip(predictionLinear)\n",
    "    rmsle = np.sqrt(testPrediction.map(lambda args: errorSquaredLog(args[0], args[1])).mean())\n",
    "    return rmsle\n"
   ]
  },
  {
   "cell_type": "markdown",
   "metadata": {},
   "source": [
    "# Comparision with diff iterations"
   ]
  },
  {
   "cell_type": "code",
   "execution_count": 44,
   "metadata": {},
   "outputs": [
    {
     "name": "stderr",
     "output_type": "stream",
     "text": [
      "D:\\spark\\spark-2.3.2-bin-hadoop2.7\\python\\pyspark\\statcounter.py:80: RuntimeWarning: invalid value encountered in maximum\n",
      "  self.maxValue = maximum(self.maxValue, other.maxValue)\n",
      "D:\\spark\\spark-2.3.2-bin-hadoop2.7\\python\\pyspark\\statcounter.py:81: RuntimeWarning: invalid value encountered in minimum\n",
      "  self.minValue = minimum(self.minValue, other.minValue)\n"
     ]
    },
    {
     "data": {
      "image/png": "[encoded data removed]",
      "text/plain": [
       "<Figure size 432x288 with 1 Axes>"
      ]
     },
     "metadata": {
      "needs_background": "light"
     },
     "output_type": "display_data"
    }
   ],
   "source": [
    "params = [1, 5, 10, 20, 50, 100]\n",
    "\n",
    "metrics = [evaluate(trainData, testData, param, 0.01, 0.0, \"l2\", False) for param in params]\n",
    "\n",
    "plot(params, metrics)\n",
    "\n",
    "fig = matplotlib.pyplot.gcf()\n",
    "\n",
    "matplotlib.pyplot.title('Metrics for varying number of iterations')\n",
    "\n",
    "pyplot.xscale(\"log\")"
   ]
  },
  {
   "cell_type": "markdown",
   "metadata": {},
   "source": [
    "# Performing same test, changing the step size"
   ]
  },
  {
   "cell_type": "code",
   "execution_count": 45,
   "metadata": {},
   "outputs": [
    {
     "data": {
      "image/png": "[encoded data removed]",
      "text/plain": [
       "<Figure size 432x288 with 1 Axes>"
      ]
     },
     "metadata": {
      "needs_background": "light"
     },
     "output_type": "display_data"
    }
   ],
   "source": [
    "params = [0.01, 0.025, 0.05, 0.1, 1.0]\n",
    "\n",
    "metrics = [evaluate(trainData, testData, 10, param, 0.0, \"l2\", False) for param in params]\n",
    "\n",
    "plot(params, metrics)\n",
    "\n",
    "fig = matplotlib.pyplot.gcf()\n",
    "\n",
    "matplotlib.pyplot.title('Metrics for varying values of step size')\n",
    "\n",
    "pyplot.xscale(\"log\")"
   ]
  },
  {
   "cell_type": "markdown",
   "metadata": {},
   "source": [
    "# Regularization"
   ]
  },
  {
   "cell_type": "code",
   "execution_count": 46,
   "metadata": {},
   "outputs": [
    {
     "data": {
      "image/png": "[encoded data removed]",
      "text/plain": [
       "<Figure size 432x288 with 1 Axes>"
      ]
     },
     "metadata": {
      "needs_background": "light"
     },
     "output_type": "display_data"
    }
   ],
   "source": [
    "\n",
    "params = [0.0, 0.01, 0.1, 1.0, 5.0, 10.0, 20.0]\n",
    "\n",
    "metrics = [evaluate(trainData, testData, 10, 0.1, param, \"l1\", False) for param in params]\n",
    "\n",
    "plot(params, metrics)\n",
    "\n",
    "matplotlib.pyplot.title('Metrics for varying levels of L2 regularization')\n",
    "\n",
    "fig = matplotlib.pyplot.gcf()\n",
    "\n",
    "pyplot.xscale(\"log\")\n"
   ]
  },
  {
   "cell_type": "markdown",
   "metadata": {},
   "source": [
    "# Regularization using sparse weight vectors"
   ]
  },
  {
   "cell_type": "code",
   "execution_count": 48,
   "metadata": {},
   "outputs": [
    {
     "name": "stdout",
     "output_type": "stream",
     "text": [
      "number of zero weights regularization: 0\n",
      "number of zeros weights regularization (10): 0\n",
      "number of zeros weights regularization (100): 0\n"
     ]
    }
   ],
   "source": [
    "\n",
    "model_regType11 = LinearRegressionWithSGD.train(trainData, 10, 0.1, regParam=1.0, regType=\"l1\", intercept=False)\n",
    "\n",
    "model_regType11_regParam10 = LinearRegressionWithSGD.train(trainData, 10, 0.1, regParam=10.0, regType=\"l1\", intercept=False)\n",
    "\n",
    "model_regType11_regParam100 = LinearRegressionWithSGD.train(trainData, 10, 0.1, regParam=100.0, regType=\"l1\", intercept=False)\n",
    "\n",
    "print (\"number of zero weights regularization: \" + str(sum(model_regType11.weights.array == 0)))\n",
    "\n",
    "print (\"number of zeros weights regularization (10): \" + str(sum(model_regType11_regParam10.weights.array == 0)))\n",
    "\n",
    "print (\"number of zeros weights regularization (100): \" +str(sum(model_regType11_regParam100.weights.array == 0)))"
   ]
  },
  {
   "cell_type": "markdown",
   "metadata": {},
   "source": [
    "# Intercept"
   ]
  },
  {
   "cell_type": "code",
   "execution_count": 49,
   "metadata": {},
   "outputs": [
    {
     "data": {
      "image/png": "[encoded data removed]",
      "text/plain": [
       "<Figure size 432x288 with 1 Axes>"
      ]
     },
     "metadata": {
      "needs_background": "light"
     },
     "output_type": "display_data"
    }
   ],
   "source": [
    "\n",
    "params = [False, True]\n",
    "\n",
    "metrics = [evaluate(trainData, testData, 10, 0.1, 1.0, \"l2\", param) for param in params]\n",
    "\n",
    "bar(params, metrics, color=\"lightblue\")\n",
    "\n",
    "matplotlib.pyplot.title('Metrics without and with an intercept')\n",
    "\n",
    "fig = matplotlib.pyplot.gcf()\n"
   ]
  },
  {
   "cell_type": "markdown",
   "metadata": {},
   "source": [
    "# impact of parameter on Decision Tree"
   ]
  },
  {
   "cell_type": "code",
   "execution_count": 50,
   "metadata": {},
   "outputs": [],
   "source": [
    "\n",
    "def evaluateDT(train, test, maxDepth, maxBins):\n",
    "    modelDT = DecisionTree.trainRegressor(\n",
    "        train, {}, impurity=\"variance\", \n",
    "        maxDepth=maxDepth, \n",
    "        maxBins=maxBins\n",
    "    )\n",
    "    prediction = modelDT.predict(test.map(lambda p: p.features))\n",
    "    actual = test.map(lambda p: p.label)\n",
    "    testPrediction = actual.zip(prediction)\n",
    "    root_mean_squarede_error = np.sqrt(testPrediction.map(lambda args: errorSquaredLog(args[0], args[1])).mean())\n",
    "    return root_mean_squarede_error"
   ]
  },
  {
   "cell_type": "markdown",
   "metadata": {},
   "source": [
    "# Tree Depth"
   ]
  },
  {
   "cell_type": "code",
   "execution_count": 51,
   "metadata": {},
   "outputs": [
    {
     "data": {
      "image/png": "[encoded data removed]",
      "text/plain": [
       "<Figure size 432x288 with 1 Axes>"
      ]
     },
     "metadata": {
      "needs_background": "light"
     },
     "output_type": "display_data"
    }
   ],
   "source": [
    "\n",
    "params = [1, 2, 3, 4, 5, 10, 20]\n",
    "\n",
    "metrics = [evaluateDT(trainDataDT, testDataDT, param, 32) for param in params]\n",
    "\n",
    "plot(params, metrics)\n",
    "\n",
    "matplotlib.pyplot.title('Metrics for different tree depths')\n",
    "\n",
    "fig = matplotlib.pyplot.gcf()\n"
   ]
  },
  {
   "cell_type": "markdown",
   "metadata": {},
   "source": [
    "# Maximum bins"
   ]
  },
  {
   "cell_type": "code",
   "execution_count": 52,
   "metadata": {},
   "outputs": [
    {
     "data": {
      "image/png": "[encoded data removed]",
      "text/plain": [
       "<Figure size 432x288 with 1 Axes>"
      ]
     },
     "metadata": {
      "needs_background": "light"
     },
     "output_type": "display_data"
    }
   ],
   "source": [
    "\n",
    "params = [2, 4, 8, 16, 32, 64, 100]\n",
    "\n",
    "metrics = [evaluateDT(trainDataDT, testDataDT, 5, param) for param in params]\n",
    "\n",
    "plot(params, metrics)\n",
    "\n",
    "matplotlib.pyplot.title('Metrics for different maximum bins')\n",
    "\n",
    "fig = matplotlib.pyplot.gcf()\n"
   ]
  },
  {
   "cell_type": "code",
   "execution_count": null,
   "metadata": {},
   "outputs": [],
   "source": []
  }
 ],
 "metadata": {
  "kernelspec": {
   "display_name": "Python 3",
   "language": "python",
   "name": "python3"
  },
  "language_info": {
   "codemirror_mode": {
    "name": "ipython",
    "version": 3
   },
   "file_extension": ".py",
   "mimetype": "text/x-python",
   "name": "python",
   "nbconvert_exporter": "python",
   "pygments_lexer": "ipython3",
   "version": "3.6.5"
  }
 },
 "nbformat": 4,
 "nbformat_minor": 2
}
